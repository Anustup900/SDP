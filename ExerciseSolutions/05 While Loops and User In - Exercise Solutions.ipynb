{
 "cells": [
  {
   "cell_type": "markdown",
   "id": "fd6ea632",
   "metadata": {},
   "source": [
    "<a name='exercises_variables'></a>Exercises\n",
    "---"
   ]
  },
  {
   "cell_type": "markdown",
   "id": "4c9dded2",
   "metadata": {},
   "source": [
    "## While Loop"
   ]
  },
  {
   "cell_type": "markdown",
   "id": "654332b8",
   "metadata": {},
   "source": [
    "#### Growing Strength\n",
    "- Make a variable called strength, and set its initial value to 5.\n",
    "- Print a message reporting the player's strength.\n",
    "- Set up a while loop that runs until the player's strength increases to a value such as 10.\n",
    "- Inside the while loop, print a message that reports the player's current strength.\n",
    "- Inside the while loop, write a statement that increases the player's strength.\n",
    "- Outside the while loop, print a message reporting that the player has grown too strong, and that they have moved up to a new level of the game.\n",
    "- Bonus: Play around with different cutoff levels for the value of *strength*, and play around with different ways to increase the strength value within the while loop."
   ]
  },
  {
   "cell_type": "code",
   "execution_count": 1,
   "id": "7c8f485a",
   "metadata": {},
   "outputs": [
    {
     "name": "stdout",
     "output_type": "stream",
     "text": [
      "the player's strength: 5\n",
      "the player's strength: 6\n",
      "the player's strength: 7\n",
      "the player's strength: 8\n",
      "the player's strength: 9\n",
      "the player's strength: 10\n",
      "the player's strength: 11\n",
      "the player's strength: 12\n",
      "the player's strength: 13\n",
      "the player's strength: 14\n",
      "the player's strength: 15\n",
      "the player's strength: 16\n",
      "the player's strength: 17\n",
      "the player's strength: 18\n",
      "the player's strength: 19\n",
      "the player has grown too strong, and has moved up to a new level of the game.\n"
     ]
    }
   ],
   "source": [
    "# Ex 6.1 : Growing Strength\n",
    "\n",
    "strength: int = 5\n",
    "    \n",
    "print(f\"the player's strength: {strength}\")\n",
    "\n",
    "while strength < 19:\n",
    "    strength += 1\n",
    "    print(f\"the player's strength: {strength}\")\n",
    "    \n",
    "print(\"the player has grown too strong, and has moved up to a new level of the game.\")"
   ]
  },
  {
   "cell_type": "markdown",
   "id": "3f24e5d4",
   "metadata": {},
   "source": [
    "## User-Input"
   ]
  },
  {
   "cell_type": "markdown",
   "id": "70e4fe84",
   "metadata": {},
   "source": [
    "Game Preferences\n",
    "- Make a list that includes 3 or 4 games that you like to play.\n",
    "- Print a statement that tells the user what games you like.\n",
    "- Ask the user to tell you a game they like, and store the game in a variable such as `new_game`.\n",
    "- Add the user's game to your list.\n",
    "- Print a new statement that lists all of the games that we like to play (*we* means you and your user)."
   ]
  },
  {
   "cell_type": "code",
   "execution_count": 2,
   "id": "ee346bcd",
   "metadata": {},
   "outputs": [
    {
     "name": "stdout",
     "output_type": "stream",
     "text": [
      "games: ['basketball', 'football', 'soccer', 'polo']\n",
      "New Game: game\n",
      "games: ['basketball', 'football', 'soccer', 'polo', 'game']\n"
     ]
    }
   ],
   "source": [
    "# Ex 6.2 : Game Preferences\n",
    "\n",
    "listOfGames: list = ['basketball', 'football', 'soccer', 'polo']\n",
    "print(f'games: {listOfGames}')    \n",
    "\n",
    "newGame: str = str(input('New Game: '))\n",
    "listOfGames.append(newGame)\n",
    "print(f'games: {listOfGames}')    "
   ]
  },
  {
   "cell_type": "markdown",
   "id": "9e1f7d53",
   "metadata": {},
   "source": [
    "## Using while loops to keep your programs running"
   ]
  },
  {
   "cell_type": "markdown",
   "id": "a8f67550",
   "metadata": {},
   "source": [
    "#### Many Games\n",
    "- Modify *[Game Preferences](#exercises_input)* so your user can add as many games as they like."
   ]
  },
  {
   "cell_type": "code",
   "execution_count": 3,
   "id": "f1f72a51",
   "metadata": {},
   "outputs": [
    {
     "name": "stdout",
     "output_type": "stream",
     "text": [
      "games: ['basketball', 'football', 'soccer', 'polo']\n",
      "New Game: game1\n",
      "games: ['basketball', 'football', 'soccer', 'polo', 'game1']\n",
      "New Game: game2\n",
      "games: ['basketball', 'football', 'soccer', 'polo', 'game1', 'game2']\n",
      "New Game: game3\n",
      "games: ['basketball', 'football', 'soccer', 'polo', 'game1', 'game2', 'game3']\n",
      "New Game: no\n"
     ]
    }
   ],
   "source": [
    "# Ex 6.3 : Many Games\n",
    "\n",
    "listOfGames: list = ['basketball', 'football', 'soccer', 'polo']\n",
    "print(f'games: {listOfGames}')    \n",
    "\n",
    "newGame: str = ''\n",
    "    \n",
    "while newGame != 'no':\n",
    "    newGame = str(input('New Game: '))\n",
    "    \n",
    "    if newGame != 'no':\n",
    "        listOfGames.append(newGame)\n",
    "        print(f'games: {listOfGames}')  "
   ]
  },
  {
   "cell_type": "markdown",
   "id": "7435156f",
   "metadata": {},
   "source": [
    "## Accidental Infinite loops"
   ]
  },
  {
   "cell_type": "markdown",
   "id": "20e06e4b",
   "metadata": {},
   "source": [
    "#### Marveling at Infinity\n",
    "- Use one of the examples of a failed while loop to create an infinite loop.\n",
    "- Interrupt your output.\n",
    "- Marvel at the fact that if you had not interrupted your output, your computer would have kept doing what you told it to until it ran out of power, or memory, or until the universe went cold around it."
   ]
  },
  {
   "cell_type": "code",
   "execution_count": 4,
   "id": "512e6e89",
   "metadata": {},
   "outputs": [],
   "source": [
    "# Ex 6.4 : Marveling at Infinity\n",
    "\n",
    "flag: bool = True\n",
    "    \n",
    "# while True:\n",
    "#     print('True')"
   ]
  },
  {
   "cell_type": "markdown",
   "id": "5a93d439",
   "metadata": {},
   "source": [
    "## Overall Challenges"
   ]
  },
  {
   "cell_type": "markdown",
   "id": "cd57d41b",
   "metadata": {},
   "source": [
    "#### Gaussian Addition\n",
    "This challenge is inspired by a story about the mathematician Carl Frederich Gauss. [As the story goes](http://mathforum.org/library/drmath/view/57919.html), when young Gauss was in grade school his teacher got mad at his class one day.\n",
    "\n",
    "\"I'll keep the lot of you busy for a while\", the teacher said sternly to the group. \"You are to add the numbers from 1 to 100, and you are not to say a word until you are done.\"\n",
    "\n",
    "The teacher expected a good period of quiet time, but a moment later our mathematician-to-be raised his hand with the answer. \"It's 5050!\" Gauss had realized that if you list all the numbers from 1 to 100, you can always match the first and last numbers in the list and get a common answer:\n",
    "\n",
    "    1, 2, 3, ..., 98, 99, 100\n",
    "    1 + 100 = 101\n",
    "    2 + 99 = 101\n",
    "    3 + 98 = 101\n",
    "\n",
    "Gauss realized there were exactly 50 pairs of numbers in the range 1 to 100, so he did a quick calculation: 50 * 101 = 5050.\n",
    "\n",
    "- Write a program that passes a list of numbers to a function.\n",
    "    - The function should use a while loop to keep popping the first and last numbers from the list and calculate the sum of those two numbers.\n",
    "    - The function should print out the current numbers that are being added, and print their partial sum.\n",
    "    - The function should keep track of how many partial sums there are.\n",
    "    - The function should then print out how many partial sums there were.\n",
    "    - The function should perform Gauss' multiplication, and report the final answer.\n",
    "- Prove that your function works, by passing in the range 1-100, and verifying that you get 5050.\n",
    "    - `gauss_addition(list(range(1,101)))`\n",
    "- Your function should work for any set of consecutive numbers, as long as that set has an even length.\n",
    "    - Bonus: Modify your function so that it works for any set of consecutive numbers, whether that set has an even or odd length."
   ]
  },
  {
   "cell_type": "code",
   "execution_count": 5,
   "id": "aa3a324f",
   "metadata": {},
   "outputs": [
    {
     "name": "stdout",
     "output_type": "stream",
     "text": [
      "1 + 9 = 10\n",
      "2 + 8 = 10\n",
      "3 + 7 = 10\n",
      "4 + 6 = 10\n",
      "middle element: 5\n",
      "The number of partial sums: 4\n",
      "sum: 45\n"
     ]
    }
   ],
   "source": [
    "# Overall Challenge: Gaussian Addition\n",
    "\n",
    "def gaussianAddition(seq: list) -> int:\n",
    "    \n",
    "    numOfPartialSums: int = 0\n",
    "    f, l = seq[0], seq[len(seq)-1]\n",
    "    middleNum: int = 0\n",
    "        \n",
    "    while len(seq) > 0:\n",
    "        \n",
    "        if len(seq) == 1:\n",
    "            middleNum = seq.pop(0)\n",
    "            print(f'middle element: {middleNum}')\n",
    "            \n",
    "        else:\n",
    "            first, last = seq.pop(0), seq.pop(len(seq)-1)\n",
    "            print(first, '+', last, '=', first + last)\n",
    "            numOfPartialSums += 1\n",
    "    \n",
    "    gaussSum: int = ((f + l) * numOfPartialSums) + middleNum\n",
    "    \n",
    "    print(f'The number of partial sums: {numOfPartialSums}')\n",
    "    return gaussSum\n",
    "        \n",
    "        \n",
    "print(\"sum:\", gaussianAddition(list(range(1,10))))"
   ]
  },
  {
   "cell_type": "markdown",
   "id": "e1df0121",
   "metadata": {},
   "source": [
    "Solutions by [AARYA RAJOJU](https://github.com/aaryarajoju)"
   ]
  }
 ],
 "metadata": {
  "kernelspec": {
   "display_name": "Python 3",
   "language": "python",
   "name": "python3"
  },
  "language_info": {
   "codemirror_mode": {
    "name": "ipython",
    "version": 3
   },
   "file_extension": ".py",
   "mimetype": "text/x-python",
   "name": "python",
   "nbconvert_exporter": "python",
   "pygments_lexer": "ipython3",
   "version": "3.8.7"
  }
 },
 "nbformat": 4,
 "nbformat_minor": 5
}
