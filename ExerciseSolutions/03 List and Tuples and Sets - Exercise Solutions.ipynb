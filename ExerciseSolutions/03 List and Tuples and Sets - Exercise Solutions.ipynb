{
 "cells": [
  {
   "cell_type": "markdown",
   "id": "8472daa1",
   "metadata": {},
   "source": [
    "<a name='exercises_variables'></a>Exercises\n",
    "---"
   ]
  },
  {
   "cell_type": "markdown",
   "id": "873885b6",
   "metadata": {},
   "source": [
    "## Lists"
   ]
  },
  {
   "cell_type": "markdown",
   "id": "169123e5",
   "metadata": {},
   "source": [
    "### Introducing Lists"
   ]
  },
  {
   "cell_type": "markdown",
   "id": "bd4cd206",
   "metadata": {},
   "source": [
    "#### First List\n",
    "- Store the values 'python', 'c', and 'java' in a list. Print each of these values out, using their position in the list."
   ]
  },
  {
   "cell_type": "code",
   "execution_count": 1,
   "id": "2c6c82bc",
   "metadata": {},
   "outputs": [
    {
     "name": "stdout",
     "output_type": "stream",
     "text": [
      "python\n",
      "c\n",
      "java\n"
     ]
    }
   ],
   "source": [
    "# Ex 3.1 : First List\n",
    "\n",
    "l: list = ['python', 'c', 'java']\n",
    "    \n",
    "print(l[0])\n",
    "print(l[1])\n",
    "print(l[2])"
   ]
  },
  {
   "cell_type": "markdown",
   "id": "17901d9e",
   "metadata": {},
   "source": [
    "#### First Neat List\n",
    "- Store the values 'python', 'c', and 'java' in a list. Print a statement about each of these values, using their position in the list.\n",
    "- Your statement could simply be, 'A nice programming language is *value*.'"
   ]
  },
  {
   "cell_type": "code",
   "execution_count": 2,
   "id": "57a6919f",
   "metadata": {},
   "outputs": [
    {
     "name": "stdout",
     "output_type": "stream",
     "text": [
      "- python is an interpreted language\n",
      "- c is a compiled language\n",
      "- java is a platform independent language\n"
     ]
    }
   ],
   "source": [
    "# Ex 3.2 : First Neat List\n",
    "\n",
    "l: list = ['python', 'c', 'java']\n",
    "    \n",
    "print(f\"- {l[0]} is an interpreted language\")\n",
    "print(f\"- {l[1]} is a compiled language\")\n",
    "print(f\"- {l[2]} is a platform independent language\")"
   ]
  },
  {
   "cell_type": "markdown",
   "id": "7083b7e6",
   "metadata": {},
   "source": [
    "#### Your First List\n",
    "- Think of something you can store in a list. Make a list with three or four items, and then print a message that includes at least one item from your list. Your sentence could be as simple as, \"One item in my list is a ____.\""
   ]
  },
  {
   "cell_type": "code",
   "execution_count": 3,
   "id": "f0582321",
   "metadata": {},
   "outputs": [
    {
     "name": "stdout",
     "output_type": "stream",
     "text": [
      "red, green and blue are known as primary colors\n"
     ]
    }
   ],
   "source": [
    "# Ex 3.3 : Your First List\n",
    "\n",
    "colors: list = ['red', 'green', 'blue']\n",
    "    \n",
    "print(f\"{colors[0]}, {colors[1]} and {colors[2]} are known as primary colors\")"
   ]
  },
  {
   "cell_type": "markdown",
   "id": "e2a33ccd",
   "metadata": {},
   "source": [
    "### Lists and Looping"
   ]
  },
  {
   "cell_type": "markdown",
   "id": "bb2d798b",
   "metadata": {},
   "source": [
    "#### First List - Loop\n",
    "- Repeat *First List*, but this time use a loop to print out each value in the list."
   ]
  },
  {
   "cell_type": "code",
   "execution_count": 4,
   "id": "7b82b4a8",
   "metadata": {},
   "outputs": [
    {
     "name": "stdout",
     "output_type": "stream",
     "text": [
      "python\n",
      "c\n",
      "java\n"
     ]
    }
   ],
   "source": [
    "# Ex 3.4 : First List - Loop\n",
    "\n",
    "l: list = ['python', 'c', 'java']\n",
    "    \n",
    "for i in range(3):\n",
    "    print(l[i])"
   ]
  },
  {
   "cell_type": "markdown",
   "id": "ba400186",
   "metadata": {},
   "source": [
    "#### First Neat List - Loop\n",
    "- Repeat *First Neat List*, but this time use a loop to print out your statements. Make sure you are writing the same sentence for all values in your list. Loops are not effective when you are trying to generate different output for each value in your list."
   ]
  },
  {
   "cell_type": "code",
   "execution_count": 5,
   "id": "3472caba",
   "metadata": {},
   "outputs": [
    {
     "name": "stdout",
     "output_type": "stream",
     "text": [
      "- python is a programming language\n",
      "- c is a programming language\n",
      "- java is a programming language\n"
     ]
    }
   ],
   "source": [
    "# Ex 3.5 : First Neat List - Loop\n",
    "\n",
    "l: list = ['python', 'c', 'java']\n",
    "    \n",
    "for i in range(3):\n",
    "    print(f\"- {l[i]} is a programming language\")"
   ]
  },
  {
   "cell_type": "markdown",
   "id": "37faff95",
   "metadata": {},
   "source": [
    "#### Your First List - Loop\n",
    "- Repeat *Your First List*, but this time use a loop to print out your message for each item in your list. Again, if you came up with different messages for each value in your list, decide on one message to repeat for each value in your list."
   ]
  },
  {
   "cell_type": "code",
   "execution_count": 6,
   "id": "ffac3708",
   "metadata": {},
   "outputs": [
    {
     "name": "stdout",
     "output_type": "stream",
     "text": [
      "primary colors: red green blue "
     ]
    }
   ],
   "source": [
    "# Ex 3.6 : Your First List - Loop\n",
    "\n",
    "colors: list = ['red', 'green', 'blue']\n",
    "    \n",
    "print(\"primary colors: \", end=\"\")\n",
    "\n",
    "for i in range(3):\n",
    "    print(colors[i], end=\" \")"
   ]
  },
  {
   "cell_type": "markdown",
   "id": "6c05e047",
   "metadata": {},
   "source": [
    "### Common List Operations"
   ]
  },
  {
   "cell_type": "markdown",
   "id": "bcbd1fa6",
   "metadata": {},
   "source": [
    "#### Working List\n",
    "- Make a list that includes four careers, such as 'programmer' and 'truck driver'.\n",
    "- Use the *list.index()* function to find the index of one career in your list.\n",
    "- Use the *in* function to show that this career is in your list.\n",
    "- Use the *append()* function to add a new career to your list.\n",
    "- Use the *insert()* function to add a new career at the beginning of the list.\n",
    "- Use a loop to show all the careers in your list."
   ]
  },
  {
   "cell_type": "code",
   "execution_count": 7,
   "id": "4cb0359d",
   "metadata": {},
   "outputs": [
    {
     "name": "stdout",
     "output_type": "stream",
     "text": [
      "original: ['programmer', 'driver', 'designer', 'doctor']\n",
      "\n",
      "the index of programmers in the list is 0\n",
      "\n",
      "doctor is in the careers list: True\n",
      "artist is in the careers list: False\n",
      "\n",
      "after append: ['programmer', 'driver', 'designer', 'doctor', 'artist']\n",
      "\n",
      "after insert: ['athlete', 'programmer', 'driver', 'designer', 'doctor', 'artist']\n",
      "\n",
      "Careers: \n",
      "\t 1. athlete\n",
      "\t 2. programmer\n",
      "\t 3. driver\n",
      "\t 4. designer\n",
      "\t 5. doctor\n",
      "\t 6. artist\n"
     ]
    }
   ],
   "source": [
    "# Ex 3.7 : Working List\n",
    "\n",
    "careers: list = ['programmer', 'driver', 'designer', 'doctor']\n",
    "print(f\"original: {careers}\", end=\"\\n\\n\")\n",
    "    \n",
    "# list.index() function\n",
    "print(f\"the index of programmers in the list is {careers.index('programmer')}\", end=\"\\n\\n\")\n",
    "\n",
    "# in function\n",
    "print(f\"doctor is in the careers list: {'doctor' in careers}\")\n",
    "print(f\"artist is in the careers list: {'artist' in careers}\", end=\"\\n\\n\")\n",
    "\n",
    "# append() function\n",
    "careers.append('artist')\n",
    "print(f\"after append: {careers}\", end=\"\\n\\n\")\n",
    "\n",
    "# insert() function\n",
    "careers.insert(0, 'athlete')\n",
    "print(f\"after insert: {careers}\", end=\"\\n\\n\")\n",
    "\n",
    "# loop to show all the elements\n",
    "print('Careers: ')\n",
    "for i in range(6):\n",
    "    print(f\"\\t {i+1}. {careers[i]}\")"
   ]
  },
  {
   "cell_type": "markdown",
   "id": "254921e1",
   "metadata": {},
   "source": [
    "#### Starting From Empty\n",
    "- Create the list you ended up with in *Working List*, but this time start your file with an empty list and fill it up using *append()* statements.\n",
    "- Print a statement that tells us what the first career you thought of was.\n",
    "- Print a statement that tells us what the last career you thought of was."
   ]
  },
  {
   "cell_type": "code",
   "execution_count": 8,
   "id": "6f440f17",
   "metadata": {
    "scrolled": true
   },
   "outputs": [
    {
     "name": "stdout",
     "output_type": "stream",
     "text": [
      "the first career i though about was programmer\n",
      "the last career i though about was athlete\n"
     ]
    }
   ],
   "source": [
    "# Ex 3.8 : Starting From Empty\n",
    "\n",
    "careers: list = ['athlete', 'programmer', 'driver', 'designer', 'doctor', 'artist']\n",
    "\n",
    "emptyCareers: list = []\n",
    "    \n",
    "for i in range(len(careers)):\n",
    "    emptyCareers.append(careers[i])\n",
    "    \n",
    "print(f\"the first career i though about was {emptyCareers[1]}\")\n",
    "print(f\"the last career i though about was {emptyCareers[0]}\")"
   ]
  },
  {
   "cell_type": "markdown",
   "id": "28bdb0d2",
   "metadata": {},
   "source": [
    "#### Ordered Working List\n",
    "- Start with the list you created in *Working List*.\n",
    "- You are going to print out the list in a number of different orders.\n",
    "- Each time you print the list, use a for loop rather than printing the raw list.\n",
    "- Print a message each time telling us what order we should see the list in.\n",
    "    - Print the list in its original order.\n",
    "    - Print the list in alphabetical order.\n",
    "    - Print the list in its original order.\n",
    "    - Print the list in reverse alphabetical order.\n",
    "    - Print the list in its original order.\n",
    "    - Print the list in the reverse order from what it started.\n",
    "    - Print the list in its original order\n",
    "    - Permanently sort the list in alphabetical order, and then print it out.\n",
    "    - Permanently sort the list in reverse alphabetical order, and then print it out."
   ]
  },
  {
   "cell_type": "code",
   "execution_count": 9,
   "id": "5c04bf4d",
   "metadata": {},
   "outputs": [
    {
     "name": "stdout",
     "output_type": "stream",
     "text": [
      "original:\n",
      "\t1. athlete\n",
      "\t2. programmer\n",
      "\t3. driver\n",
      "\t4. designer\n",
      "\t5. doctor\n",
      "\t6. artist\n",
      "\n",
      "alphabetical:\n",
      "\t1. artist\n",
      "\t2. athlete\n",
      "\t3. designer\n",
      "\t4. doctor\n",
      "\t5. driver\n",
      "\t6. programmer\n",
      "\n",
      "\n",
      "original:\n",
      "\t1. athlete\n",
      "\t2. programmer\n",
      "\t3. driver\n",
      "\t4. designer\n",
      "\t5. doctor\n",
      "\t6. artist\n",
      "\n",
      "reverse alphabetical:\n",
      "\t1. programmer\n",
      "\t2. driver\n",
      "\t3. doctor\n",
      "\t4. designer\n",
      "\t5. athlete\n",
      "\t6. artist\n",
      "\n",
      "\n",
      "original\n",
      "\t1. athlete\n",
      "\t2. programmer\n",
      "\t3. driver\n",
      "\t4. designer\n",
      "\t5. doctor\n",
      "\t6. artist\n",
      "\n",
      "reverse:\n",
      "\t1. artist\n",
      "\t2. doctor\n",
      "\t3. designer\n",
      "\t4. driver\n",
      "\t5. programmer\n",
      "\t6. athlete\n",
      "\n",
      "\n",
      "original:\n",
      "\t1. athlete\n",
      "\t2. programmer\n",
      "\t3. driver\n",
      "\t4. designer\n",
      "\t5. doctor\n",
      "\t6. artist\n",
      "\n",
      "permanent alphabetical:\n",
      "\t1. artist\n",
      "\t2. athlete\n",
      "\t3. designer\n",
      "\t4. doctor\n",
      "\t5. driver\n",
      "\t6. programmer\n",
      "\n",
      "permanent reverse alphabetical:\n",
      "\t1. programmer\n",
      "\t2. driver\n",
      "\t3. doctor\n",
      "\t4. designer\n",
      "\t5. athlete\n",
      "\t6. artist\n"
     ]
    }
   ],
   "source": [
    "# Ex 3.9 : Ordered Working List\n",
    "\n",
    "\n",
    "def printList(lis: list):\n",
    "    for i in range(len(lis)):\n",
    "        print(f\"\\t{i+1}. {lis[i]}\")\n",
    "\n",
    "\n",
    "careers: list = ['athlete', 'programmer', 'driver', 'designer', 'doctor', 'artist']\n",
    "\n",
    "print(\"original:\")\n",
    "printList(careers)\n",
    "print(\"\\nalphabetical:\")\n",
    "printList(sorted(careers))\n",
    "\n",
    "print(\"\\n\\noriginal:\")\n",
    "printList(careers)\n",
    "print(\"\\nreverse alphabetical:\")\n",
    "printList(sorted(careers, reverse=True))\n",
    "\n",
    "print(\"\\n\\noriginal\")\n",
    "printList(careers)\n",
    "careers.reverse()\n",
    "print(\"\\nreverse:\")\n",
    "printList(careers)\n",
    "careers.reverse()\n",
    "\n",
    "print(\"\\n\\noriginal:\")\n",
    "printList(careers)\n",
    "careers.sort()\n",
    "print(\"\\npermanent alphabetical:\")\n",
    "printList(careers)\n",
    "careers.sort(reverse=True)\n",
    "print(\"\\npermanent reverse alphabetical:\")\n",
    "printList(careers)\n",
    "\n"
   ]
  },
  {
   "cell_type": "markdown",
   "id": "cbc5f70f",
   "metadata": {},
   "source": [
    "#### Ordered Numbers\n",
    "- Make a list of 5 numbers, in a random order.\n",
    "- You are going to print out the list in a number of different orders.\n",
    "- Each time you print the list, use a for loop rather than printing the raw list.\n",
    "- Print a message each time telling us what order we should see the list in.\n",
    "    - Print the numbers in the original order.\n",
    "    - Print the numbers in increasing order.\n",
    "    - Print the numbers in the original order.\n",
    "    - Print the numbers in decreasing order.\n",
    "    - Print the numbers in their original order.\n",
    "    - Print the numbers in the reverse order from how they started.\n",
    "    - Print the numbers in the original order.\n",
    "    - Permanently sort the numbers in increasing order, and then print them out.\n",
    "    - Permanently sort the numbers in descreasing order, and then print them out."
   ]
  },
  {
   "cell_type": "code",
   "execution_count": 10,
   "id": "edb91499",
   "metadata": {},
   "outputs": [
    {
     "name": "stdout",
     "output_type": "stream",
     "text": [
      "original:\n",
      "\t- 12\n",
      "\t- 34\n",
      "\t- 21\n",
      "\t- 54\n",
      "\t- 23\n",
      "\n",
      "increasing order:\n",
      "\t- 12\n",
      "\t- 21\n",
      "\t- 23\n",
      "\t- 34\n",
      "\t- 54\n",
      "\n",
      "\n",
      "original:\n",
      "\t- 12\n",
      "\t- 34\n",
      "\t- 21\n",
      "\t- 54\n",
      "\t- 23\n",
      "\n",
      "decreasing order:\n",
      "\t- 54\n",
      "\t- 34\n",
      "\t- 23\n",
      "\t- 21\n",
      "\t- 12\n",
      "\n",
      "\n",
      "original:\n",
      "\t- 12\n",
      "\t- 34\n",
      "\t- 21\n",
      "\t- 54\n",
      "\t- 23\n",
      "\n",
      "reverse order:\n",
      "\t- 23\n",
      "\t- 54\n",
      "\t- 21\n",
      "\t- 34\n",
      "\t- 12\n",
      "\n",
      "\n",
      "original:\n",
      "\t- 12\n",
      "\t- 34\n",
      "\t- 21\n",
      "\t- 54\n",
      "\t- 23\n",
      "\n",
      "permanent increasing order:\n",
      "\t- 12\n",
      "\t- 21\n",
      "\t- 23\n",
      "\t- 34\n",
      "\t- 54\n",
      "\n",
      "permanent decreasing order:\n",
      "\t- 54\n",
      "\t- 34\n",
      "\t- 23\n",
      "\t- 21\n",
      "\t- 12\n"
     ]
    }
   ],
   "source": [
    "# Ex 3.10 : Ordered Numbers\n",
    "\n",
    "\n",
    "def printList(lis: list):\n",
    "    for i in range(len(lis)):\n",
    "        print(f\"\\t- {lis[i]}\")\n",
    "        \n",
    "\n",
    "numbers: list = [12, 34, 21, 54, 23]\n",
    "    \n",
    "print(\"original:\")\n",
    "printList(numbers)\n",
    "print(\"\\nincreasing order:\")\n",
    "printList(sorted(numbers))\n",
    "\n",
    "print(\"\\n\\noriginal:\")\n",
    "printList(numbers)\n",
    "print(\"\\ndecreasing order:\")\n",
    "printList(sorted(numbers, reverse=True))\n",
    "\n",
    "print(\"\\n\\noriginal:\")\n",
    "printList(numbers)\n",
    "numbers.reverse()\n",
    "print(\"\\nreverse order:\")\n",
    "printList(numbers)\n",
    "numbers.reverse()\n",
    "\n",
    "print(\"\\n\\noriginal:\")\n",
    "printList(numbers)\n",
    "numbers.sort()\n",
    "print(\"\\npermanent increasing order:\")\n",
    "printList(numbers)\n",
    "numbers.sort(reverse=True)\n",
    "print(\"\\npermanent decreasing order:\")\n",
    "printList(numbers)"
   ]
  },
  {
   "cell_type": "markdown",
   "id": "7d763a17",
   "metadata": {},
   "source": [
    "#### List Lengths\n",
    "- Copy two or three of the lists you made from the previous exercises, or make up two or three new lists.\n",
    "- Print out a series of statements that tell us how long each list is."
   ]
  },
  {
   "cell_type": "code",
   "execution_count": 11,
   "id": "15877eb7",
   "metadata": {},
   "outputs": [
    {
     "name": "stdout",
     "output_type": "stream",
     "text": [
      "the list of programming languages has 3 elements\n",
      "the list of careers has 6 elements\n",
      "the list of numbers has 5 elements\n"
     ]
    }
   ],
   "source": [
    "# Ex 3.11 : List Lengths\n",
    "\n",
    "l: list = ['python', 'c', 'java']\n",
    "careers: list = ['athlete', 'programmer', 'driver', 'designer', 'doctor', 'artist']\n",
    "numbers: list = [12, 34, 21, 54, 23]\n",
    "\n",
    "print(f\"the list of programming languages has {len(l)} elements\")\n",
    "print(f\"the list of careers has {len(careers)} elements\")\n",
    "print(f\"the list of numbers has {len(numbers)} elements\")"
   ]
  },
  {
   "cell_type": "markdown",
   "id": "1926998f",
   "metadata": {},
   "source": [
    "### Removing Items from a List"
   ]
  },
  {
   "cell_type": "markdown",
   "id": "9cfefee5",
   "metadata": {},
   "source": [
    "#### Famous People\n",
    "- Make a list that includes the names of four famous people.\n",
    "- Remove each person from the list, one at a time, using each of the four methods we have just seen:\n",
    "    - Pop the last item from the list, and pop any item except the last item.\n",
    "    - Remove one item by its position, and one item by its value.\n",
    "- Print out a message that there are no famous people left in your list, and print your list to prove that it is empty."
   ]
  },
  {
   "cell_type": "code",
   "execution_count": 12,
   "id": "e1791944",
   "metadata": {
    "scrolled": true
   },
   "outputs": [
    {
     "name": "stdout",
     "output_type": "stream",
     "text": [
      "['steve jobs', 'elon musk', 'jeff bezos', 'bill gates']\n",
      "['steve jobs', 'elon musk', 'jeff bezos']\n",
      "['steve jobs', 'elon musk']\n",
      "['elon musk']\n",
      "there are no more famous people in the list\n",
      "[]\n"
     ]
    }
   ],
   "source": [
    "# Ex 3.12 : Famous People\n",
    "\n",
    "people = ['steve jobs', 'elon musk', 'jeff bezos', 'bill gates']\n",
    "print(people)\n",
    "\n",
    "people.remove('bill gates')\n",
    "print(people)\n",
    "\n",
    "del people[2]\n",
    "print(people)\n",
    "\n",
    "first: str = people.pop(0)\n",
    "print(people)\n",
    "\n",
    "last: str = people.pop()\n",
    "\n",
    "print('there are no more famous people in the list')\n",
    "print(people)"
   ]
  },
  {
   "cell_type": "markdown",
   "id": "2ca4e5a5",
   "metadata": {},
   "source": [
    "### Slicing a List"
   ]
  },
  {
   "cell_type": "markdown",
   "id": "e64a0f4f",
   "metadata": {},
   "source": [
    "#### Alphabet Slices\n",
    "- Store the first ten letters of the alphabet in a list.\n",
    "- Use a slice to print out the first three letters of the alphabet.\n",
    "- Use a slice to print out any three letters from the middle of your list.\n",
    "- Use a slice to print out the letters from any point in the middle of your list, to the end."
   ]
  },
  {
   "cell_type": "code",
   "execution_count": 13,
   "id": "cda65475",
   "metadata": {},
   "outputs": [
    {
     "name": "stdout",
     "output_type": "stream",
     "text": [
      "abc\n",
      "ghi\n",
      "ghij\n"
     ]
    }
   ],
   "source": [
    "# Ex 3.13 : Alphabet Slices\n",
    "\n",
    "from string import ascii_lowercase\n",
    "tenletters: list = ascii_lowercase[0:10]\n",
    "    \n",
    "alphabets: list = tenletters[:]\n",
    "\n",
    "print(alphabets[:3])\n",
    "print(alphabets[6:9])\n",
    "print(alphabets[6:])"
   ]
  },
  {
   "cell_type": "markdown",
   "id": "a2405510",
   "metadata": {},
   "source": [
    "#### Protected List\n",
    "- Your goal in this exercise is to prove that copying a list protects the original list.\n",
    "- Make a list with three people's names in it.\n",
    "- Use a slice to make a copy of the entire list.\n",
    "- Add at least two new names to the new copy of the list.\n",
    "- Make a loop that prints out all of the names in the original list, along with a message that this is the original list.\n",
    "- Make a loop that prints out all of the names in the copied list, along with a message that this is the copied list."
   ]
  },
  {
   "cell_type": "code",
   "execution_count": 14,
   "id": "2cfad461",
   "metadata": {},
   "outputs": [
    {
     "name": "stdout",
     "output_type": "stream",
     "text": [
      "original list:\n",
      "\tHarry\n",
      "\tRon\n",
      "\tHermoine\n",
      "copy: \n",
      "\tHarry\n",
      "\tRon\n",
      "\tHermoine\n",
      "\tDumbeldore\n",
      "\tSnape\n",
      "\n",
      "\n",
      "copied list: ['harry', 'ron', 'hermoine', 'dumbeldore', 'snape']\n",
      "original list: ['harry', 'ron', 'hermoine']\n"
     ]
    }
   ],
   "source": [
    "# Ex 3.14 : Protected List\n",
    "\n",
    "names: list = ['harry','ron','hermoine']\n",
    "\n",
    "copyOfNames: list = names[:]\n",
    "\n",
    "copyOfNames.append('dumbeldore')\n",
    "copyOfNames.append('snape')\n",
    "\n",
    "print('original list:')\n",
    "for name in names:\n",
    "    print(\"\\t\" + name.title())\n",
    "\n",
    "print('copy: ')\n",
    "for copiedName in copyOfNames:\n",
    "    print(\"\\t\" + copiedName.title())\n",
    "    \n",
    "print(f\"\\n\\ncopied list: {copyOfNames}\")\n",
    "print(f\"original list: {names}\")\n"
   ]
  },
  {
   "cell_type": "markdown",
   "id": "790ea3e8",
   "metadata": {},
   "source": [
    "### Numerical Lists"
   ]
  },
  {
   "cell_type": "markdown",
   "id": "e242ccb7",
   "metadata": {},
   "source": [
    "#### First Twenty\n",
    "- Use the *range()* function to store the first twenty numbers (1-20) in a list, and print them out."
   ]
  },
  {
   "cell_type": "code",
   "execution_count": 15,
   "id": "4026abcb",
   "metadata": {},
   "outputs": [
    {
     "name": "stdout",
     "output_type": "stream",
     "text": [
      "1 2 3 4 5 6 7 8 9 10 11 12 13 14 15 16 17 18 19 20 "
     ]
    }
   ],
   "source": [
    "# Ex 3.15 : First Twenty\n",
    "\n",
    "twentyNumbers: list = list(range(1,21))\n",
    "\n",
    "for num in twentyNumbers:\n",
    "    print(num, end=\" \")"
   ]
  },
  {
   "cell_type": "markdown",
   "id": "eec57a17",
   "metadata": {},
   "source": [
    "#### Larger Sets\n",
    "- Take the *first\\_twenty.py* program you just wrote. Change your end number to a much larger number. How long does it take your computer to print out the first million numbers? (Most people will never see a million numbers scroll before their eyes. You can now see this!)"
   ]
  },
  {
   "cell_type": "code",
   "execution_count": 16,
   "id": "5abf71e5",
   "metadata": {},
   "outputs": [
    {
     "name": "stdout",
     "output_type": "stream",
     "text": [
      "1000000\n"
     ]
    }
   ],
   "source": [
    "# Ex 3.16 : Larger Sets\n",
    "\n",
    "millionNumbers: list = list(range(0,int(1e6)))\n",
    "\n",
    "print(len(millionNumbers))\n",
    "    \n",
    "# for num in millionNumbers:\n",
    "#     print(num, end=\" \")"
   ]
  },
  {
   "cell_type": "markdown",
   "id": "45163a38",
   "metadata": {},
   "source": [
    "#### Five Wallets\n",
    "- Imagine five wallets with different amounts of cash in them. Store these five values in a list, and print out the following sentences:\n",
    "    - \"The fattest wallet has $ *value* in it.\"\n",
    "    - \"The skinniest wallet has $ *value* in it.\"\n",
    "    - \"All together, these wallets have $ *value* in them.\""
   ]
  },
  {
   "cell_type": "code",
   "execution_count": 17,
   "id": "072949b1",
   "metadata": {},
   "outputs": [
    {
     "name": "stdout",
     "output_type": "stream",
     "text": [
      "[[61, 67, 27, 73, 3, 77, 69], [9, 47, 71], [38, 17, 64, 92, 54, 59, 94, 23, 34, 2], [38, 99, 93, 100, 32, 95, 63, 89, 53], [33, 59, 46, 31, 31, 96]]\n",
      "[377, 127, 477, 662, 296]\n",
      "The fattest wallet has 662 in it\n",
      "The thinnest wallet has 127 in it\n",
      "All together, these wallets have 1939 value in them\n"
     ]
    }
   ],
   "source": [
    "# Ex 3.17 : Five Wallets\n",
    "\n",
    "from random import randint\n",
    "\n",
    "wallets: list = [[randint(1,100) for _ in range(randint(2,10))] for _ in range(5)]\n",
    "print(wallets)\n",
    "\n",
    "amounts: list = [sum(wallet) for wallet in wallets]\n",
    "print(amounts)\n",
    "\n",
    "print(f'The fattest wallet has {max(amounts)} in it')\n",
    "print(f'The thinnest wallet has {min(amounts)} in it')\n",
    "print(f'All together, these wallets have {sum(amounts)} value in them')"
   ]
  },
  {
   "cell_type": "markdown",
   "id": "0e5e3971",
   "metadata": {},
   "source": [
    "### List Comprehensions"
   ]
  },
  {
   "cell_type": "markdown",
   "id": "11d52fa3",
   "metadata": {},
   "source": [
    "#### Multiples of Ten\n",
    "- Make a list of the first ten multiples of ten (10, 20, 30... 90, 100). There are a number of ways to do this, but try to do it using a list comprehension. Print out your list."
   ]
  },
  {
   "cell_type": "code",
   "execution_count": 18,
   "id": "4faf6057",
   "metadata": {},
   "outputs": [
    {
     "name": "stdout",
     "output_type": "stream",
     "text": [
      "[10, 20, 30, 40, 50, 60, 70, 80, 90, 100]\n"
     ]
    }
   ],
   "source": [
    "# Ex 3.18 : Multiples of Ten\n",
    "\n",
    "multiplesOfTen: list = [i for i in range(10, 110, 10)]\n",
    "\n",
    "print(multiplesOfTen)"
   ]
  },
  {
   "cell_type": "markdown",
   "id": "5eaf4f65",
   "metadata": {},
   "source": [
    "#### Cubes\n",
    "- We saw how to make a list of the first ten squares. Make a list of the first ten cubes (1, 8, 27... 1000) using a list comprehension, and print them out."
   ]
  },
  {
   "cell_type": "code",
   "execution_count": 19,
   "id": "b81de5f7",
   "metadata": {},
   "outputs": [
    {
     "name": "stdout",
     "output_type": "stream",
     "text": [
      "[1, 8, 27, 64, 125, 216, 343, 512, 729, 1000]\n"
     ]
    }
   ],
   "source": [
    "# Ex 3.19 : Cubes\n",
    "\n",
    "cubes: list = [num**3 for num in range(1, 11)]\n",
    "    \n",
    "print(cubes)"
   ]
  },
  {
   "cell_type": "markdown",
   "id": "cbd49cc5",
   "metadata": {},
   "source": [
    "#### Awesomeness\n",
    "- Store five names in a list. Make a second list that adds the phrase \"is awesome!\" to each name, using a list comprehension. Print out the awesome version of the names."
   ]
  },
  {
   "cell_type": "code",
   "execution_count": 20,
   "id": "ffde6de6",
   "metadata": {},
   "outputs": [
    {
     "name": "stdout",
     "output_type": "stream",
     "text": [
      "['Michael Jordan is awesome!', 'Stephen Curry is awesome!', 'Kevin Durant is awesome!', 'Jimmy Buttler is awesome!', 'James Harden is awesome!']\n"
     ]
    }
   ],
   "source": [
    "# Ex 3.20 : Awesomeness\n",
    "\n",
    "firstListOfNames: list = ['Michael Jordan', 'Stephen Curry', 'Kevin Durant', 'Jimmy Buttler', 'James Harden']\n",
    "secondListOfNames: list = [(n + ' is awesome!') for n in firstListOfNames]\n",
    "    \n",
    "print(secondListOfNames)"
   ]
  },
  {
   "cell_type": "markdown",
   "id": "70a5338b",
   "metadata": {},
   "source": [
    "#### Working Backwards\n",
    "- Write out the following code without using a list comprehension:\n",
    "\n",
    "    plus_thirteen = [number + 13 for number in range(1,11)]"
   ]
  },
  {
   "cell_type": "code",
   "execution_count": 21,
   "id": "44719b73",
   "metadata": {},
   "outputs": [
    {
     "name": "stdout",
     "output_type": "stream",
     "text": [
      "[14, 15, 16, 17, 18, 19, 20, 21, 22, 23]\n"
     ]
    }
   ],
   "source": [
    "# Ex 3.21 : Working Backwards\n",
    "\n",
    "plusThirteen: list = []\n",
    "    \n",
    "for numb in range(1, 11):\n",
    "    plusThirteen.append(numb + 13)\n",
    "\n",
    "print(plusThirteen)"
   ]
  },
  {
   "cell_type": "markdown",
   "id": "71b99fed",
   "metadata": {},
   "source": [
    "### Strings as Lists"
   ]
  },
  {
   "cell_type": "markdown",
   "id": "be1f284d",
   "metadata": {},
   "source": [
    "#### Listing a Sentence\n",
    "- Store a single sentence in a variable. Use a for loop to print each character from your sentence on a separate line."
   ]
  },
  {
   "cell_type": "code",
   "execution_count": 22,
   "id": "d6d7e0de",
   "metadata": {},
   "outputs": [
    {
     "name": "stdout",
     "output_type": "stream",
     "text": [
      "P\n",
      "y\n",
      "t\n",
      "h\n",
      "o\n",
      "n\n",
      "!\n"
     ]
    }
   ],
   "source": [
    "# Ex 3.22 : Listing a Sentence\n",
    "\n",
    "singleSentence: str = 'Python!'\n",
    "    \n",
    "for letter in singleSentence:\n",
    "    print(letter)"
   ]
  },
  {
   "cell_type": "markdown",
   "id": "1cbc78e2",
   "metadata": {},
   "source": [
    "#### Sentence List\n",
    "- Store a single sentence in a variable. Create a list from your sentence. Print your raw list (don't use a loop, just print the list)."
   ]
  },
  {
   "cell_type": "code",
   "execution_count": 23,
   "id": "a34a4bf0",
   "metadata": {},
   "outputs": [
    {
     "name": "stdout",
     "output_type": "stream",
     "text": [
      "['I', ' ', 'L', 'o', 'v', 'e', ' ', 'P', 'y', 't', 'h', 'o', 'n', '!']\n"
     ]
    }
   ],
   "source": [
    "# Ex 3.23 : Sentence List\n",
    "\n",
    "singleSentence: str = 'I Love Python!'\n",
    "listOfTheSentence: list = list(singleSentence)\n",
    "    \n",
    "print(listOfTheSentence)"
   ]
  },
  {
   "cell_type": "markdown",
   "id": "2d1f3819",
   "metadata": {},
   "source": [
    "#### Sentence Slices\n",
    "- Store a sentence in a variable. Using slices, print out the first five characters, any five consecutive characters from the middle of the sentence, and the last five characters of the sentence."
   ]
  },
  {
   "cell_type": "code",
   "execution_count": 24,
   "id": "1e1abad3",
   "metadata": {},
   "outputs": [
    {
     "name": "stdout",
     "output_type": "stream",
     "text": [
      "Pytho\n",
      "_is_a\n",
      "some!\n"
     ]
    }
   ],
   "source": [
    "# Ex 3.24 : Sentence Slices\n",
    "\n",
    "sentence: str = 'Python_is_awesome!'\n",
    "\n",
    "firstFive: str = sentence[:5]\n",
    "middleFive: str = sentence[6:11]\n",
    "lastFive: str = sentence[-5:]\n",
    "    \n",
    "print(firstFive, middleFive, lastFive, sep=\"\\n\")"
   ]
  },
  {
   "cell_type": "markdown",
   "id": "06dfe641",
   "metadata": {},
   "source": [
    "#### Finding Python\n",
    "- Store a sentence in a variable, making sure you use the word *Python* at least twice in the sentence.\n",
    "- Use the *in* keyword to prove that the word *Python* is actually in the sentence.\n",
    "- Use the *find()* function to show where the word *Python* first appears in the sentence.\n",
    "- Use the *rfind()* function to show the last place *Python* appears in the sentence.\n",
    "- Use the *count()* function to show how many times the word *Python* appears in your sentence.\n",
    "- Use the *split()* function to break your sentence into a list of words. Print the raw list, and use a loop to print each word on its own line.\n",
    "- Use the *replace()* function to change *Python* to *Ruby* in your sentence."
   ]
  },
  {
   "cell_type": "code",
   "execution_count": 25,
   "id": "96046b18",
   "metadata": {},
   "outputs": [
    {
     "name": "stdout",
     "output_type": "stream",
     "text": [
      "True\n",
      "0\n",
      "48\n",
      "2\n",
      "\n",
      "\n",
      "Python\n",
      "was\n",
      "first\n",
      "developed\n",
      "by\n",
      "Guido\n",
      "van\n",
      "Rossum.\n",
      "Python\n",
      "is\n",
      "now\n",
      "one\n",
      "of\n",
      "the\n",
      "most\n",
      "popular\n",
      "languages\n",
      "\n",
      "\n",
      "Ruby was first developed by Guido van Rossum. Ruby is now one of the most popular languages\n"
     ]
    }
   ],
   "source": [
    "# Ex 3.25 : Finding Python\n",
    "\n",
    "pySentence: str = 'Python was first developed by Guido van Rossum. Python is now one of the most popular languages'\n",
    "\n",
    "print('Python' in pySentence)\n",
    "print(pySentence.find('Python'))\n",
    "print(pySentence.rfind('Python'))\n",
    "print(pySentence.count('Python'))\n",
    "\n",
    "pySentenceList: list = pySentence.split(' ')\n",
    "print('\\n')\n",
    "for word in pySentenceList:\n",
    "    print(word)\n",
    "print('\\n')\n",
    "\n",
    "pySentence = pySentence.replace('Python', 'Ruby')\n",
    "print(pySentence)"
   ]
  },
  {
   "cell_type": "markdown",
   "id": "667281fc",
   "metadata": {},
   "source": [
    "## Challenges"
   ]
  },
  {
   "cell_type": "markdown",
   "id": "189de77b",
   "metadata": {},
   "source": [
    "#### Counting DNA Nucleotides\n",
    "- [Project Rosalind](http://rosalind.info/problems/locations/) is a [problem set](http://rosalind.info/problems/list-view/) based on biotechnology concepts. It is meant to show how programming skills can help solve problems in genetics and biology.\n",
    "- If you have understood this section on strings, you have enough information to solve the first problem in Project Rosalind, [Counting DNA Nucleotides](http://rosalind.info/problems/dna/). Give the sample problem a try.\n",
    "- If you get the sample problem correct, log in and try the full version of the problem!"
   ]
  },
  {
   "cell_type": "code",
   "execution_count": 26,
   "id": "f53192bb",
   "metadata": {},
   "outputs": [
    {
     "name": "stdout",
     "output_type": "stream",
     "text": [
      "20 12 17 21\n"
     ]
    }
   ],
   "source": [
    "# Challenge: Counting DNA Nucleotides\n",
    "\n",
    "dnaString: str = 'AGCTTTTCATTCTGACTGCAACGGGCAATATGTCTCTGTGTGGATTAAAAAAAGAGTGTCTGATAGCAGC'\n",
    "\n",
    "countA: int = dnaString.count('A')\n",
    "countC: int = dnaString.count('C')\n",
    "countG: int = dnaString.count('G')\n",
    "countT: int = dnaString.count('T')\n",
    "    \n",
    "print(countA, countC, countG, countT)"
   ]
  },
  {
   "cell_type": "markdown",
   "id": "5a12edd1",
   "metadata": {},
   "source": [
    "#### Transcribing DNA into RNA\n",
    "- You also have enough information to try the second problem, [Transcribing DNA into RNA](http://rosalind.info/problems/rna/). Solve the sample problem.\n",
    "- If you solved the sample problem, log in and try the full version!"
   ]
  },
  {
   "cell_type": "code",
   "execution_count": 27,
   "id": "a36b749a",
   "metadata": {},
   "outputs": [
    {
     "name": "stdout",
     "output_type": "stream",
     "text": [
      "GAUGGAACUUGACUACGUAAAUU\n"
     ]
    }
   ],
   "source": [
    "# Challenge: Transcribing DNA into RNA\n",
    "\n",
    "dnaString: str = 'GATGGAACTTGACTACGTAAATT'\n",
    "\n",
    "rnaString = dnaString.replace('T', 'U')\n",
    "\n",
    "print(rnaString)"
   ]
  },
  {
   "cell_type": "markdown",
   "id": "5b4c4ed0",
   "metadata": {},
   "source": [
    "#### Complementing a Strand of DNA\n",
    "- You guessed it, you can now try the third problem as well: [Complementing a Strand of DNA](http://rosalind.info/problems/revc/). Try the sample problem, and then try the full version if you are successful."
   ]
  },
  {
   "cell_type": "code",
   "execution_count": 28,
   "id": "f0d479c6",
   "metadata": {},
   "outputs": [
    {
     "name": "stdout",
     "output_type": "stream",
     "text": [
      "ACCGGGTTTT\n"
     ]
    }
   ],
   "source": [
    "# Challenge: Complementing a Strand of DNA\n",
    "\n",
    "dnaString: str = 'AAAACCCGGT'\n",
    "complimentDNA: str = ''\n",
    "    \n",
    "for ch in dnaString:\n",
    "    if ch == 'A':\n",
    "        complimentDNA = 'T' + complimentDNA\n",
    "    elif ch == 'T':\n",
    "        complimentDNA = 'A' + complimentDNA\n",
    "    elif ch == 'G':\n",
    "        complimentDNA = 'C' + complimentDNA\n",
    "    elif ch == 'C':\n",
    "        complimentDNA = 'G' + complimentDNA\n",
    "\n",
    "print(complimentDNA)"
   ]
  },
  {
   "cell_type": "markdown",
   "id": "812b0935",
   "metadata": {},
   "source": [
    "## Tuples"
   ]
  },
  {
   "cell_type": "markdown",
   "id": "934583cf",
   "metadata": {},
   "source": [
    "#### Gymnast Scores\n",
    "- A gymnast can earn a score between 1 and 10 from each judge; nothing lower, nothing higher. All scores are integer values; there are no decimal scores from a single judge.\n",
    "- Store the possible scores a gymnast can earn from one judge in a tuple.\n",
    "- Print out the sentence, \"The lowest possible score is \\_\\_\\_, and the highest possible score is \\_\\_\\_.\" Use the values from your tuple.\n",
    "- Print out a series of sentences, \"A judge can give a gymnast ___ points.\"\n",
    "    - Don't worry if your first sentence reads \"A judge can give a gymnast 1 points.\"\n",
    "    - However, you get 1000 bonus internet points if you can use a for loop, and have correct grammar."
   ]
  },
  {
   "cell_type": "code",
   "execution_count": 29,
   "id": "7206cd89",
   "metadata": {},
   "outputs": [
    {
     "name": "stdout",
     "output_type": "stream",
     "text": [
      "The lowest possible score is 1 and the highest possible score is 10.\n",
      "\n",
      "A judge can give a gymnast 1 point\n",
      "A judge can give a gymnast 2 points\n",
      "A judge can give a gymnast 3 points\n",
      "A judge can give a gymnast 4 points\n",
      "A judge can give a gymnast 5 points\n",
      "A judge can give a gymnast 6 points\n",
      "A judge can give a gymnast 7 points\n",
      "A judge can give a gymnast 8 points\n",
      "A judge can give a gymnast 9 points\n",
      "A judge can give a gymnast 10 points\n"
     ]
    }
   ],
   "source": [
    "# Ex 3.26 : Gymnast Scores\n",
    "\n",
    "gymnastScores: tuple = (1, 2, 3, 4, 5, 6, 7, 8, 9, 10)\n",
    "\n",
    "print(f'The lowest possible score is {min(gymnastScores)} and the highest possible score is {max(gymnastScores)}.', end='\\n\\n')\n",
    "\n",
    "for score in gymnastScores:\n",
    "    string: str = f'A judge can give a gymnast {score} points'\n",
    "    print((string[:-1]) if (score == 1) else (string))"
   ]
  },
  {
   "cell_type": "markdown",
   "id": "6186fe14",
   "metadata": {},
   "source": [
    "#### Revision with Tuples\n",
    "- Choose a program you have already written that uses string concatenation.\n",
    "- Save the program with the same filename, but add *\\_tuple.py* to the end. For example, *gymnast\\_scores.py* becomes *gymnast\\_scores_tuple.py*.\n",
    "- Rewrite your string sections using *%s* and *%d* instead of concatenation.\n",
    "- Repeat this with two other programs you have already written."
   ]
  },
  {
   "cell_type": "code",
   "execution_count": 30,
   "id": "e7c8c93f",
   "metadata": {},
   "outputs": [
    {
     "name": "stdout",
     "output_type": "stream",
     "text": [
      "The lowest possible score is 1 and the highest possible score is 10.\n",
      "\n",
      "A judge can give a gymnast 1 point\n",
      "A judge can give a gymnast 2 points\n",
      "A judge can give a gymnast 3 points\n",
      "A judge can give a gymnast 4 points\n",
      "A judge can give a gymnast 5 points\n",
      "A judge can give a gymnast 6 points\n",
      "A judge can give a gymnast 7 points\n",
      "A judge can give a gymnast 8 points\n",
      "A judge can give a gymnast 9 points\n",
      "A judge can give a gymnast 10 points\n"
     ]
    }
   ],
   "source": [
    "# Ex 3.27 : Revision with Tuples\n",
    "\n",
    "gymnastScores: tuple = (1, 2, 3, 4, 5, 6, 7, 8, 9, 10)\n",
    "\n",
    "print(f'The lowest possible score is {min(gymnastScores)} and the highest possible score is {max(gymnastScores)}.', end='\\n\\n')\n",
    "\n",
    "for score in gymnastScores:\n",
    "    # using %s in place of fstring\n",
    "    string: str = f'A judge can give a gymnast %s points' % (score)\n",
    "    print((string[:-1]) if (score == 1) else (string))"
   ]
  },
  {
   "cell_type": "markdown",
   "id": "68ed32f9",
   "metadata": {},
   "source": [
    "## Sets"
   ]
  },
  {
   "cell_type": "markdown",
   "id": "e919551f",
   "metadata": {},
   "source": [
    "no exercises in sets"
   ]
  },
  {
   "cell_type": "markdown",
   "id": "d6c0cc74",
   "metadata": {},
   "source": [
    "## Overall Challenges"
   ]
  },
  {
   "cell_type": "markdown",
   "id": "9c2b4a76",
   "metadata": {},
   "source": [
    "#### Programming Words\n",
    "- Make a list of the most important words you have learned in programming so far. You should have terms such as list,\n",
    "- Make a corresponding list of definitions. Fill your list with 'definition'.\n",
    "- Use a for loop to print out each word and its corresponding definition.\n",
    "- Maintain this program until you get to the section on Python's Dictionaries."
   ]
  },
  {
   "cell_type": "code",
   "execution_count": 31,
   "id": "d521c9b8",
   "metadata": {},
   "outputs": [
    {
     "name": "stdout",
     "output_type": "stream",
     "text": [
      "list: A list is a collection of items, that is stored in a variable.\n",
      "\n",
      "tuple: Tuples are basically lists that can never be changed.\n",
      "\n",
      "set: A set object is an unordered collection of distinct hashable objects.\n",
      "\n",
      "if: An if statement tests for a condition, and then responds to that condition.\n",
      "\n",
      "while: A while loop tests an initial condition. If that condition is true, the loop starts executing. Every time the loop finishes, the condition is reevaluated. As long as the condition remains true, the loop keeps executing.\n",
      "\n",
      "dict: Dictionaries are a way to store information that is connected in some way. Dictionaries store information in key-value pairs.\n",
      "\n"
     ]
    }
   ],
   "source": [
    "# Overall Challenges: Programming Words\n",
    "\n",
    "terms: list = ['list', 'tuple', 'set', 'if', 'while', 'dict']\n",
    "\n",
    "definitions: list = [\n",
    "    'A list is a collection of items, that is stored in a variable.',\n",
    "    'Tuples are basically lists that can never be changed.',\n",
    "    'A set object is an unordered collection of distinct hashable objects.',\n",
    "    'An if statement tests for a condition, and then responds to that condition.',\n",
    "    'A while loop tests an initial condition. If that condition is true, the loop starts executing. Every time the loop finishes, the condition is reevaluated. As long as the condition remains true, the loop keeps executing.',\n",
    "    'Dictionaries are a way to store information that is connected in some way. Dictionaries store information in key-value pairs.'\n",
    "]\n",
    "    \n",
    "for i in range(len(terms)):\n",
    "    print(f'{terms[i]}: {definitions[i]}', end='\\n\\n')"
   ]
  },
  {
   "cell_type": "markdown",
   "id": "5e79d011",
   "metadata": {},
   "source": [
    "Solutions by [AARYA RAJOJU](https://github.com/aaryarajoju)"
   ]
  }
 ],
 "metadata": {
  "kernelspec": {
   "display_name": "Python 3",
   "language": "python",
   "name": "python3"
  },
  "language_info": {
   "codemirror_mode": {
    "name": "ipython",
    "version": 3
   },
   "file_extension": ".py",
   "mimetype": "text/x-python",
   "name": "python",
   "nbconvert_exporter": "python",
   "pygments_lexer": "ipython3",
   "version": "3.8.7"
  }
 },
 "nbformat": 4,
 "nbformat_minor": 5
}
