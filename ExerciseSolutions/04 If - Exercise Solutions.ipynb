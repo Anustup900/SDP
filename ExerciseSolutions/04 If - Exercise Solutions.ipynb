{
 "cells": [
  {
   "cell_type": "markdown",
   "id": "fd6ea632",
   "metadata": {},
   "source": [
    "<a name='exercises_variables'></a>Exercises\n",
    "---"
   ]
  },
  {
   "cell_type": "markdown",
   "id": "4c9dded2",
   "metadata": {},
   "source": [
    "## Logical Tests"
   ]
  },
  {
   "cell_type": "markdown",
   "id": "654332b8",
   "metadata": {},
   "source": [
    "#### True and False\n",
    "- Write a program that consists of at least ten lines, each of which has a logical statement on it. The output of your program should be 5 **True**s and 5 **False**s.\n",
    "- Note: You will probably need to write `print(5 > 3)`, not just `5 > 3`."
   ]
  },
  {
   "cell_type": "code",
   "execution_count": 1,
   "id": "7c8f485a",
   "metadata": {},
   "outputs": [
    {
     "name": "stdout",
     "output_type": "stream",
     "text": [
      "False\n",
      "True\n",
      "True\n",
      "False\n",
      "True\n",
      "True\n",
      "False\n",
      "False\n",
      "False\n",
      "True\n"
     ]
    }
   ],
   "source": [
    "# Ex 5.1 : True and False\n",
    "\n",
    "print(2 == 1)\n",
    "print(2 != 1)\n",
    "print(4 == 4)\n",
    "print(4 != 4)\n",
    "print(5 > 3)\n",
    "print(5 >= 3)\n",
    "print(5 < 3)\n",
    "print(5 <= 3)\n",
    "print('Name' == 'name')\n",
    "print('Name'.lower() == 'name')"
   ]
  },
  {
   "cell_type": "markdown",
   "id": "3f24e5d4",
   "metadata": {},
   "source": [
    "## The if-elif...else chain"
   ]
  },
  {
   "cell_type": "markdown",
   "id": "70e4fe84",
   "metadata": {},
   "source": [
    "#### Three is a Crowd\n",
    "- Make a list of names that includes at least four people.\n",
    "- Write an if test that prints a message about the room being crowded, if there are more than three people in your list.\n",
    "- Modify your list so that there are only two people in it. Use one of the methods for removing people from the list, don't just redefine the list.\n",
    "- Run your if test again. There should be no output this time, because there are less than three people in the list.\n",
    "- **Bonus:** Store your if test in a function called something like `crowd_test`."
   ]
  },
  {
   "cell_type": "code",
   "execution_count": 2,
   "id": "ee346bcd",
   "metadata": {},
   "outputs": [
    {
     "name": "stdout",
     "output_type": "stream",
     "text": [
      "ROOM IS OVER-CROWDED\n"
     ]
    }
   ],
   "source": [
    "# Ex 5.2 : Three is a Crowd\n",
    "\n",
    "def crowdTest(l: list):\n",
    "    if len(l) > 3:\n",
    "        print('ROOM IS OVER-CROWDED')\n",
    "\n",
    "\n",
    "listOfPeople: list = ['name1', 'name2', 'name3', 'name4', 'name5']\n",
    "crowdTest(listOfPeople)\n",
    "\n",
    "while len(listOfPeople) > 3:\n",
    "    rem = listOfPeople.pop()\n",
    "    \n",
    "crowdTest(listOfPeople)"
   ]
  },
  {
   "cell_type": "markdown",
   "id": "a8f67550",
   "metadata": {},
   "source": [
    "#### Three is a Crowd - Part 2\n",
    "- Save your program from *Three is a Crowd* under a new name.\n",
    "- Add an `else` statement to your if tests. If the `else` statement is run, have it print a message that the room is not very crowded."
   ]
  },
  {
   "cell_type": "code",
   "execution_count": 3,
   "id": "f1f72a51",
   "metadata": {},
   "outputs": [
    {
     "name": "stdout",
     "output_type": "stream",
     "text": [
      "ROOM IS OVER-CROWDED\n",
      "ROOM IS NOT VERY CROWDED\n"
     ]
    }
   ],
   "source": [
    "# Ex 5.3 : Three is a Crowd - Part 2\n",
    "\n",
    "def crowdTest(l: list):\n",
    "    if len(l) > 3:\n",
    "        print('ROOM IS OVER-CROWDED')\n",
    "    else:\n",
    "        print('ROOM IS NOT VERY CROWDED')\n",
    "\n",
    "\n",
    "listOfPeople: list = ['name1', 'name2', 'name3', 'name4', 'name5']\n",
    "crowdTest(listOfPeople)\n",
    "\n",
    "while len(listOfPeople) > 3:\n",
    "    rem = listOfPeople.pop()\n",
    "    \n",
    "crowdTest(listOfPeople)"
   ]
  },
  {
   "cell_type": "markdown",
   "id": "03162151",
   "metadata": {},
   "source": [
    "#### Six is a Mob\n",
    "- Save your program from *Three is a Crowd - Part 2* under a new name.\n",
    "- Add some names to your list, so that there are at least six people in the list.\n",
    "- Modify your tests so that\n",
    "    - If there are more than 5 people, a message is printed about there being a mob in the room.\n",
    "    - If there are 3-5 people, a message is printed about the room being crowded.\n",
    "    - If there are 1 or 2 people, a message is printed about the room not being crowded.\n",
    "    - If there are no people in the room, a message is printed abou the room being empty."
   ]
  },
  {
   "cell_type": "code",
   "execution_count": 4,
   "id": "d89dd799",
   "metadata": {},
   "outputs": [
    {
     "name": "stdout",
     "output_type": "stream",
     "text": [
      "MOB IN ROOM\n"
     ]
    }
   ],
   "source": [
    "# Ex 5.4 : Six is a Mob\n",
    "\n",
    "def crowdTest(l: list):\n",
    "    if len(l) > 5:\n",
    "        print('MOB IN ROOM')\n",
    "    elif (len(l) >= 3) and (len(l) < 5):\n",
    "        print('ROOM IS CROWDED')\n",
    "    elif (len(l) >= 1) and (len(l) < 3):\n",
    "        print('ROOM IS NOT CROWDED')\n",
    "    elif len(l) == 0:\n",
    "        print('NO PEOPLE IN THE ROOM')\n",
    "\n",
    "\n",
    "listOfPeople: list = ['name1', 'name2', 'name3', 'name4', 'name5', 'name6']\n",
    "crowdTest(listOfPeople)"
   ]
  },
  {
   "cell_type": "markdown",
   "id": "5a93d439",
   "metadata": {},
   "source": [
    "## Overall Challenges"
   ]
  },
  {
   "cell_type": "markdown",
   "id": "cd57d41b",
   "metadata": {},
   "source": [
    "#### Alien Points\n",
    "- Make a list of ten aliens, each of which is one color: 'red', 'green', or 'blue'.\n",
    "    - You can shorten this to 'r', 'g', and 'b' if you want, but if you choose this option you have to include a comment explaining what r, g, and b stand for.\n",
    "- Red aliens are worth 5 points, green aliens are worth 10 points, and blue aliens are worth 20 points.\n",
    "- Use a for loop to determine the number of points a player would earn for destroying all of the aliens in your list."
   ]
  },
  {
   "cell_type": "code",
   "execution_count": 5,
   "id": "aa3a324f",
   "metadata": {},
   "outputs": [
    {
     "name": "stdout",
     "output_type": "stream",
     "text": [
      "110\n"
     ]
    }
   ],
   "source": [
    "# Overall Challenge: Alien Points\n",
    "\n",
    "# red - r; green - g; blue - b\n",
    "\n",
    "def points(color: str) -> int:\n",
    "    if color == 'r':\n",
    "        return 5\n",
    "    elif color == 'g':\n",
    "        return 10\n",
    "    elif color == 'b':\n",
    "        return 20\n",
    "\n",
    "    \n",
    "listOfAliens: list = ['r', 'g', 'b', 'r', 'g', 'b', 'r', 'g', 'b', 'r']\n",
    "score: int = 0\n",
    "\n",
    "for alienColor in listOfAliens:\n",
    "    score += points(alienColor)\n",
    "    \n",
    "print(score)"
   ]
  },
  {
   "cell_type": "markdown",
   "id": "e1df0121",
   "metadata": {},
   "source": [
    "Solutions by [AARYA RAJOJU](https://github.com/aaryarajoju)"
   ]
  }
 ],
 "metadata": {
  "kernelspec": {
   "display_name": "Python 3",
   "language": "python",
   "name": "python3"
  },
  "language_info": {
   "codemirror_mode": {
    "name": "ipython",
    "version": 3
   },
   "file_extension": ".py",
   "mimetype": "text/x-python",
   "name": "python",
   "nbconvert_exporter": "python",
   "pygments_lexer": "ipython3",
   "version": "3.8.7"
  }
 },
 "nbformat": 4,
 "nbformat_minor": 5
}
