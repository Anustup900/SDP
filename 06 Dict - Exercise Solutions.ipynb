{
 "cells": [
  {
   "cell_type": "markdown",
   "id": "fd6ea632",
   "metadata": {},
   "source": [
    "<a name='exercises_variables'></a>Exercises\n",
    "---"
   ]
  },
  {
   "cell_type": "markdown",
   "id": "4c9dded2",
   "metadata": {},
   "source": [
    "## Dictionaries"
   ]
  },
  {
   "cell_type": "markdown",
   "id": "654332b8",
   "metadata": {},
   "source": [
    "#### Pet Names\n",
    "- Create a dictionary to hold information about pets. Each key is an animal's name, and each value is the kind of animal.\n",
    "    - For example, 'ziggy': 'canary'\n",
    "- Put at least 3 key-value pairs in your dictionary.\n",
    "- Use a for loop to print out a series of statements such as \"Willie is a dog.\""
   ]
  },
  {
   "cell_type": "code",
   "execution_count": 1,
   "id": "7c8f485a",
   "metadata": {},
   "outputs": [
    {
     "name": "stdout",
     "output_type": "stream",
     "text": [
      "stuart little is a mouse\n",
      "hedwig is a owl\n",
      "kong is a dog\n",
      "flossy is a cat\n"
     ]
    }
   ],
   "source": [
    "# Ex 7.1 : Pet Names\n",
    "\n",
    "petNames: dict = {\n",
    "    'stuart little': 'mouse',\n",
    "    'hedwig': 'owl',\n",
    "    'kong': 'dog',\n",
    "    'flossy': 'cat'\n",
    "}\n",
    "    \n",
    "for name, pet in petNames.items():\n",
    "    print(f'{name} is a {pet}')"
   ]
  },
  {
   "cell_type": "markdown",
   "id": "6c253c64",
   "metadata": {},
   "source": [
    "#### Polling Friends\n",
    "- Think of a question you could ask your friends. Create a dictionary where each key is a person's name, and each value is that person's response to your question.\n",
    "- Store at least three responses in your dictionary.\n",
    "- Use a for loop to print out a series of statements listing each person's name, and their response."
   ]
  },
  {
   "cell_type": "code",
   "execution_count": 2,
   "id": "9c9b5afb",
   "metadata": {},
   "outputs": [
    {
     "name": "stdout",
     "output_type": "stream",
     "text": [
      "question: \"What is your age?\"\n",
      "person 1: \"18\"\n",
      "person 2: \"20\"\n",
      "person 3: \"19\"\n"
     ]
    }
   ],
   "source": [
    "# Ex 7.2 : Polling Friends\n",
    "\n",
    "question: str = 'What is your age?'\n",
    "    \n",
    "responses: dict = {\n",
    "    'person 1': '18',\n",
    "    'person 2': '20',\n",
    "    'person 3': '19'\n",
    "}\n",
    "    \n",
    "print(f'question: \"{question}\"')\n",
    "for person, answer in responses.items():\n",
    "    print(f'{person}: \"{answer}\"')"
   ]
  },
  {
   "cell_type": "markdown",
   "id": "3f24e5d4",
   "metadata": {},
   "source": [
    "## Common operations with dictionaries"
   ]
  },
  {
   "cell_type": "markdown",
   "id": "70e4fe84",
   "metadata": {},
   "source": [
    "#### Pet Names 2\n",
    "- Make a copy of your program from [Pet Names](#exercises_what).\n",
    "    - Use a for loop to print out a series of statements such as \"Willie is a dog.\"\n",
    "    - Modify one of the values in your dictionary. You could clarify to name a breed, or you could change an animal from a cat to a dog.\n",
    "        - Use a for loop to print out a series of statements such as \"Willie is a dog.\"\n",
    "    - Add a new key-value pair to your dictionary.\n",
    "        - Use a for loop to print out a series of statements such as \"Willie is a dog.\"\n",
    "    - Remove one of the key-value pairs from your dictionary.\n",
    "        - Use a for loop to print out a series of statements such as \"Willie is a dog.\"\n",
    "- Bonus: Use a function to do all of the looping and printing in this problem."
   ]
  },
  {
   "cell_type": "code",
   "execution_count": 3,
   "id": "ee346bcd",
   "metadata": {},
   "outputs": [
    {
     "name": "stdout",
     "output_type": "stream",
     "text": [
      "stuart little is a mouse\n",
      "hedwig is a owl\n",
      "flossy is a cat\n",
      "\n",
      "stuart little is a mouse\n",
      "hedwig is a owl\n",
      "flossy is a dog\n",
      "\n",
      "stuart little is a mouse\n",
      "hedwig is a owl\n",
      "flossy is a dog\n",
      "kong is a dog\n",
      "\n",
      "stuart little is a mouse\n",
      "hedwig is a owl\n",
      "kong is a dog\n",
      "\n"
     ]
    }
   ],
   "source": [
    "# Ex 7.3 : Pet Names 2\n",
    "\n",
    "\n",
    "def printDict(d: dict):\n",
    "    for key, value in d.items():\n",
    "        print(f'{key} is a {value}')\n",
    "\n",
    "\n",
    "petNames: dict = {\n",
    "    'stuart little': 'mouse',\n",
    "    'hedwig': 'owl',\n",
    "    'flossy': 'cat'\n",
    "}\n",
    "    \n",
    "printDict(petNames)\n",
    "print('')\n",
    "\n",
    "# modifying one of the values ->\n",
    "petNames['flossy'] = 'dog'\n",
    "\n",
    "printDict(petNames)\n",
    "print('')\n",
    "\n",
    "# add a new key-value pair ->\n",
    "petNames['kong'] = 'dog'\n",
    "\n",
    "printDict(petNames)\n",
    "print('')\n",
    "\n",
    "# deleting a key-value pair ->\n",
    "deleted = petNames.pop('flossy')\n",
    "\n",
    "printDict(petNames)\n",
    "print('')"
   ]
  },
  {
   "cell_type": "markdown",
   "id": "50f34681",
   "metadata": {},
   "source": [
    "#### Weight Lifting\n",
    "- Make a dictionary where the keys are the names of weight lifting exercises, and the values are the number of times you did that exercise.\n",
    "    - Use a for loop to print out a series of statements such as \"I did 10 bench presses\".\n",
    "    - Modify one of the values in your dictionary, to represent doing more of that exercise.\n",
    "        - Use a for loop to print out a series of statements such as \"I did 10 bench presses\".\n",
    "    - Add a new key-value pair to your dictionary.\n",
    "        - - Use a for loop to print out a series of statements such as \"I did 10 bench presses\".\n",
    "    - Remove one of the key-value pairs from your dictionary.\n",
    "        - - Use a for loop to print out a series of statements such as \"I did 10 bench presses\".\n",
    "- Bonus: Use a function to do all of the looping and printing in this problem."
   ]
  },
  {
   "cell_type": "code",
   "execution_count": 4,
   "id": "bcaf6b63",
   "metadata": {},
   "outputs": [
    {
     "name": "stdout",
     "output_type": "stream",
     "text": [
      "i did 25 chest presses\n",
      "i did 15 barbell squats\n",
      "i did 20 bench presses\n",
      "\n",
      "i did 25 chest presses\n",
      "i did 20 barbell squats\n",
      "i did 20 bench presses\n",
      "\n",
      "i did 25 chest presses\n",
      "i did 20 barbell squats\n",
      "i did 20 bench presses\n",
      "i did 5 deadlifts\n",
      "\n",
      "i did 25 chest presses\n",
      "i did 20 barbell squats\n",
      "i did 5 deadlifts\n",
      "\n"
     ]
    }
   ],
   "source": [
    "# Ex 7.4 : Weight Lifting\n",
    "\n",
    "\n",
    "def printDict(d: dict):\n",
    "    for key, value in d.items():\n",
    "        print(f'i did {value} {key}')\n",
    "\n",
    "exercises: dict = {\n",
    "    'chest presses': '25',\n",
    "    'barbell squats': '15',\n",
    "    'bench presses': '20'\n",
    "}\n",
    "    \n",
    "printDict(exercises)\n",
    "print('')\n",
    "\n",
    "# modifying one of the values ->\n",
    "exercises['barbell squats'] = '20'\n",
    "\n",
    "printDict(exercises)\n",
    "print('')\n",
    "\n",
    "# add a new key-value pair ->\n",
    "exercises['deadlifts'] = '5'\n",
    "\n",
    "printDict(exercises)\n",
    "print('')\n",
    "\n",
    "# deleting a key-value pair ->\n",
    "deleted = exercises.pop('bench presses')\n",
    "\n",
    "printDict(exercises)\n",
    "print('')"
   ]
  },
  {
   "cell_type": "markdown",
   "id": "9e1f7d53",
   "metadata": {},
   "source": [
    "## Looping through a dictionary"
   ]
  },
  {
   "cell_type": "markdown",
   "id": "a8f67550",
   "metadata": {},
   "source": [
    "#### <a name='exercise_mountain_heights'></a>Mountain Heights\n",
    "- Wikipedia has a list of the [tallest mountains in the world](http://en.wikipedia.org/wiki/List_of_mountains_by_elevation), with each mountain's elevation. Pick five mountains from this list.\n",
    "    - Create a dictionary with the mountain names as keys, and the elevations as values.\n",
    "    - Print out just the mountains' names, by looping through the keys of your dictionary.\n",
    "    - Print out just the mountains' elevations, by looping through the values of your dictionary.\n",
    "    - Print out a series of statements telling how tall each mountain is: \"Everest is 8848 meters tall.\"\n",
    "- Revise your output, if necessary.\n",
    "    - Make sure there is an introductory sentence describing the output for each loop you write.\n",
    "    - Make sure there is a blank line between each group of statements."
   ]
  },
  {
   "cell_type": "code",
   "execution_count": 5,
   "id": "f1f72a51",
   "metadata": {
    "scrolled": true
   },
   "outputs": [
    {
     "name": "stdout",
     "output_type": "stream",
     "text": [
      "Mountains:\n",
      "\tMt. Everest\n",
      "\tK2\n",
      "\tKangchenjunga\n",
      "\tLhotse\n",
      "\tCho Oyu\n",
      "\n",
      "Heights:\n",
      "\t8848\n",
      "\t8611\n",
      "\t8586\n",
      "\t8516\n",
      "\t8188\n",
      "\n",
      "Mountains and their Heights:\n",
      "\tMt. Everest is 8848 meters tall\n",
      "\tK2 is 8611 meters tall\n",
      "\tKangchenjunga is 8586 meters tall\n",
      "\tLhotse is 8516 meters tall\n",
      "\tCho Oyu is 8188 meters tall\n"
     ]
    }
   ],
   "source": [
    "# Ex 7.5 : Mountain Heights\n",
    "\n",
    "mountains: dict = {\n",
    "    'Mt. Everest': 8848,\n",
    "    'K2': 8611,\n",
    "    'Kangchenjunga': 8586,\n",
    "    'Lhotse': 8516,\n",
    "    'Cho Oyu': 8188\n",
    "}\n",
    "\n",
    "print('Mountains:')\n",
    "for m in mountains.keys():\n",
    "    print(f'\\t{m}')\n",
    "    \n",
    "print('\\nHeights:')\n",
    "for h in mountains.values():\n",
    "    print(f'\\t{h}')\n",
    "    \n",
    "print('\\nMountains and their Heights:')\n",
    "for mt, ht in mountains.items():\n",
    "    print(f'\\t{mt} is {ht} meters tall')"
   ]
  },
  {
   "cell_type": "markdown",
   "id": "3eac0e7d",
   "metadata": {},
   "source": [
    "#### Mountain Heights 2\n",
    "- Revise your final output from Mountain Heights, so that the information is listed in alphabetical order by each mountain's name.\n",
    "    - That is, print out a series of statements telling how tall each mountain is: \"Everest is 8848 meters tall.\"\n",
    "    - Make sure your output is in alphabetical order."
   ]
  },
  {
   "cell_type": "code",
   "execution_count": 6,
   "id": "4a9fdbf3",
   "metadata": {},
   "outputs": [
    {
     "name": "stdout",
     "output_type": "stream",
     "text": [
      "\n",
      "Mountains and their Heights (in alphabetical order):\n",
      "\tCho Oyu is 8188 meters tall\n",
      "\tK2 is 8611 meters tall\n",
      "\tKangchenjunga is 8586 meters tall\n",
      "\tLhotse is 8516 meters tall\n",
      "\tMt. Everest is 8848 meters tall\n"
     ]
    }
   ],
   "source": [
    "# Ex 7.6 : Mountain Heights 2\n",
    "\n",
    "mountains: dict = {\n",
    "    'Mt. Everest': 8848,\n",
    "    'K2': 8611,\n",
    "    'Kangchenjunga': 8586,\n",
    "    'Lhotse': 8516,\n",
    "    'Cho Oyu': 8188\n",
    "}\n",
    "    \n",
    "print('\\nMountains and their Heights (in alphabetical order):')\n",
    "for mount in sorted(mountains.keys()):\n",
    "    print(f'\\t{mount} is {mountains[mount]} meters tall')"
   ]
  },
  {
   "cell_type": "markdown",
   "id": "7435156f",
   "metadata": {},
   "source": [
    "## Nesting"
   ]
  },
  {
   "cell_type": "markdown",
   "id": "20e06e4b",
   "metadata": {},
   "source": [
    "#### Mountain Heights 3\n",
    "- This is an extension of [Mountain Heights](#exercise_mountain_heights). Make sure you save this program under a different filename, such as *mountain\\_heights_3.py*, so that you can go back to your original program if you need to.\n",
    "    - The list of [tallest mountains in the world](http://en.wikipedia.org/wiki/List_of_mountains_by_elevation) provided all elevations in meters. Convert each of these elevations to feet, given that a meter is approximately 3.28 feet. You can do these calculations by hand at this point.\n",
    "    - Create a new dictionary, where the keys of the dictionary are still the mountains' names. This time however, the values of the dictionary should be a list of each mountain's elevation in meters, and then in feet: {'everest': [8848, 29029]}\n",
    "    - Print out just the mountains' names, by looping through the keys of your dictionary.\n",
    "    - Print out just the mountains' elevations in meters, by looping through the values of your dictionary and pulling out the first number from each list.\n",
    "    - Print out just the mountains' elevations in feet, by looping through the values of your dictionary and pulling out the second number from each list.\n",
    "    - Print out a series of statements telling how tall each mountain is: \"Everest is 8848 meters tall, or 29029 feet.\"\n",
    "- Bonus:\n",
    "    - Start with your original program from [Mountain Heights](#exercise_mountain_heights). Write a function that reads through the elevations in meters, and returns a list of elevations in feet. Use this list to create the nested dictionary described above."
   ]
  },
  {
   "cell_type": "code",
   "execution_count": 7,
   "id": "512e6e89",
   "metadata": {},
   "outputs": [
    {
     "name": "stdout",
     "output_type": "stream",
     "text": [
      "Mountains:\n",
      "\tMt. Everest\n",
      "\tK2\n",
      "\tKangchenjunga\n",
      "\tLhotse\n",
      "\tCho Oyu\n",
      "\n",
      "Heights in m:\n",
      "\t8848\n",
      "\t8611\n",
      "\t8586\n",
      "\t8516\n",
      "\t8188\n",
      "\n",
      "Heights in ft:\n",
      "\t29021.44\n",
      "\t28244.08\n",
      "\t28162.08\n",
      "\t27932.48\n",
      "\t26856.64\n",
      "\n",
      "Mountains and their Heights:\n",
      "\tMt. Everest is 8848 meters, or 29021.44 feet tall\n",
      "\tK2 is 8611 meters, or 28244.08 feet tall\n",
      "\tKangchenjunga is 8586 meters, or 28162.08 feet tall\n",
      "\tLhotse is 8516 meters, or 27932.48 feet tall\n",
      "\tCho Oyu is 8188 meters, or 26856.64 feet tall\n"
     ]
    }
   ],
   "source": [
    "# Ex 7.7 : Mountain Heights 3\n",
    "\n",
    "\n",
    "def convertMtoF(l: dict) -> dict:\n",
    "    for k, v in l.items():\n",
    "        l[k] = [v, round((v * 3.28), 2)]\n",
    "        \n",
    "    return l\n",
    "\n",
    "\n",
    "mountains: dict = {\n",
    "    'Mt. Everest': 8848,\n",
    "    'K2': 8611,\n",
    "    'Kangchenjunga': 8586,\n",
    "    'Lhotse': 8516,\n",
    "    'Cho Oyu': 8188\n",
    "}\n",
    "    \n",
    "mountains = convertMtoF(mountains)\n",
    "    \n",
    "print('Mountains:')\n",
    "for m in mountains.keys():\n",
    "    print(f'\\t{m}')\n",
    "    \n",
    "print('\\nHeights in m:')\n",
    "for h in mountains.values():\n",
    "    print(f'\\t{h[0]}')\n",
    "\n",
    "print('\\nHeights in ft:')\n",
    "for h in mountains.values():\n",
    "    print(f'\\t{h[1]}')\n",
    "    \n",
    "print('\\nMountains and their Heights:')\n",
    "for mt, ht in mountains.items():\n",
    "    print(f'\\t{mt} is {ht[0]} meters, or {ht[1]} feet tall')"
   ]
  },
  {
   "cell_type": "markdown",
   "id": "8d6ae2bd",
   "metadata": {},
   "source": [
    "#### Mountain Heights 4\n",
    "- This is one more extension of Mountain Heights.\n",
    "    - Create a new dictionary, where the keys of the dictionary are once again the mountains' names. This time, the values of the dictionary are another dictionary. This dictionary should contain the elevation in either meters or feet, and the range that contains the mountain. For example: {'everest': {'elevation': 8848, 'range': 'himalaya'}}.\n",
    "    - Print out just the mountains' names.\n",
    "    - Print out just the mountains' elevations.\n",
    "    - Print out just the range for each mountain.\n",
    "    - Print out a series of statements that say everything you know about each mountain: \"Everest is an 8848-meter tall mountain in the Himalaya range.\""
   ]
  },
  {
   "cell_type": "code",
   "execution_count": 8,
   "id": "761cd018",
   "metadata": {},
   "outputs": [
    {
     "name": "stdout",
     "output_type": "stream",
     "text": [
      "Mountains:\n",
      "\tMt. Everest\n",
      "\tK2\n",
      "\tKangchenjunga\n",
      "\tLhotse\n",
      "\tCho Oyu\n",
      "\n",
      "Heights:\n",
      "\t8848\n",
      "\t8611\n",
      "\t8586\n",
      "\t8516\n",
      "\t8188\n",
      "\n",
      "Ranges:\n",
      "\tHimalayas\n",
      "\tKarakoram\n",
      "\tHimalayas\n",
      "\tHimalayas\n",
      "\tHimalayas\n",
      "\n",
      "Mountains and their Heights:\n",
      "\tMt. Everest is 8848 meters tall, and in the Himalayas range\n",
      "\tK2 is 8611 meters tall, and in the Karakoram range\n",
      "\tKangchenjunga is 8586 meters tall, and in the Himalayas range\n",
      "\tLhotse is 8516 meters tall, and in the Himalayas range\n",
      "\tCho Oyu is 8188 meters tall, and in the Himalayas range\n"
     ]
    }
   ],
   "source": [
    "# Ex 7.8 : Mountain Heights 4\n",
    "\n",
    "mountains: dict = {\n",
    "    'Mt. Everest': {'height': 8848, 'range': 'Himalayas'},\n",
    "    'K2': {'height': 8611, 'range': 'Karakoram'},\n",
    "    'Kangchenjunga': {'height': 8586, 'range': 'Himalayas'},\n",
    "    'Lhotse': {'height': 8516, 'range': 'Himalayas'},\n",
    "    'Cho Oyu': {'height': 8188, 'range': 'Himalayas'}\n",
    "}\n",
    "\n",
    "print('Mountains:')\n",
    "for m in mountains.keys():\n",
    "    print(f'\\t{m}')\n",
    "    \n",
    "print('\\nHeights:')\n",
    "for h in mountains.values():\n",
    "    print(f\"\\t{h['height']}\")\n",
    "    \n",
    "print('\\nRanges:')\n",
    "for h in mountains.values():\n",
    "    print(f\"\\t{h['range']}\")\n",
    "    \n",
    "print('\\nMountains and their Heights:')\n",
    "for mt, ht in mountains.items():\n",
    "    print(f'\\t{mt} is {ht[\"height\"]} meters tall, and in the {ht[\"range\"]} range')"
   ]
  },
  {
   "cell_type": "markdown",
   "id": "5a93d439",
   "metadata": {},
   "source": [
    "## Overall Challenges"
   ]
  },
  {
   "cell_type": "markdown",
   "id": "cd57d41b",
   "metadata": {},
   "source": [
    "#### Word Wall\n",
    "- A word wall is a place on your wall where you keep track of the new words and meanings you are learning. Write a terminal app that lets you enter new words, and a meaning for each word.\n",
    "    - Your app should have a title bar that says the name of your program.\n",
    "    - Your program should give users the option to see all words and meanings that have been entered so far.\n",
    "    - Your program should give users the option to enter a new word and meaning.\n",
    "        - Your program must not allow duplicate entries.\n",
    "    - Your program should store existing words and meanings, even after the program closes.\n",
    "    - Your program should give users the option to modify an existing meaning.\n",
    "- Bonus Features\n",
    "    - Allow users to modify the spelling of words.\n",
    "    - Allow users to categorize words.\n",
    "    - Turn the program into a game that quizzes users on words and meanings.\n",
    "    - (later on) Turn your program into a website that only you can use.\n",
    "    - (later on) Turn your program into a website that anyone can register for, and use.\n",
    "    - Add a visualization feature that reports on some statistics about the words and meanings that have been entered."
   ]
  },
  {
   "cell_type": "code",
   "execution_count": 9,
   "id": "aa3a324f",
   "metadata": {},
   "outputs": [],
   "source": [
    "# Challenge: Word Wall\n"
   ]
  },
  {
   "cell_type": "markdown",
   "id": "758df11a",
   "metadata": {},
   "source": [
    "#### Periodic Table App\n",
    "- The [Periodic Table](http://www.ptable.com/) of the Elements was developed to organize information about the elements that make up the Universe. Write a terminal app that lets you enter information about each element in the periodic table.\n",
    "    - Make sure you include the following information:\n",
    "        - symbol, name, atomic number, row, and column\n",
    "    - Choose at least one other piece of information to include in your app.\n",
    "    - Provide a menu of options for users to:\n",
    "        - See all the information that is stored about any element, by entering that element's symbol.\n",
    "        - Choose a property, and see that property for each element in the table.\n",
    "- Bonus Features\n",
    "    - Provide an option to view the symbols arranged like the periodic table. ([hint](#hints_periodic_table))"
   ]
  },
  {
   "cell_type": "code",
   "execution_count": 10,
   "id": "624e680a",
   "metadata": {},
   "outputs": [],
   "source": [
    "# Challenge: Periodic Table App\n"
   ]
  },
  {
   "cell_type": "markdown",
   "id": "e1df0121",
   "metadata": {},
   "source": [
    "Solutions by [AARYA RAJOJU](https://github.com/aaryarajoju)"
   ]
  }
 ],
 "metadata": {
  "kernelspec": {
   "display_name": "Python 3",
   "language": "python",
   "name": "python3"
  },
  "language_info": {
   "codemirror_mode": {
    "name": "ipython",
    "version": 3
   },
   "file_extension": ".py",
   "mimetype": "text/x-python",
   "name": "python",
   "nbconvert_exporter": "python",
   "pygments_lexer": "ipython3",
   "version": "3.8.7"
  }
 },
 "nbformat": 4,
 "nbformat_minor": 5
}
