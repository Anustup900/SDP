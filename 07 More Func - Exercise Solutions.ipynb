{
 "cells": [
  {
   "cell_type": "markdown",
   "id": "fd6ea632",
   "metadata": {},
   "source": [
    "<a name='exercises_variables'></a>Exercises\n",
    "---"
   ]
  },
  {
   "cell_type": "markdown",
   "id": "4c9dded2",
   "metadata": {},
   "source": [
    "## Default argument values"
   ]
  },
  {
   "cell_type": "markdown",
   "id": "654332b8",
   "metadata": {},
   "source": [
    "#### Games\n",
    "- Write a function that accepts the name of a game and prints a statement such as, \"I like playing chess!\"\n",
    "- Give the argument a default value, such as `chess`.\n",
    "- Call your function at least three times. Make sure at least one of the calls includes an argument, and at least one call includes no arguments."
   ]
  },
  {
   "cell_type": "code",
   "execution_count": 1,
   "id": "7c8f485a",
   "metadata": {},
   "outputs": [
    {
     "name": "stdout",
     "output_type": "stream",
     "text": [
      "I like playing chess.\n",
      "I like playing basketball.\n",
      "I like playing football.\n"
     ]
    }
   ],
   "source": [
    "# Ex 8.1 : Games\n",
    "\n",
    "def game(g: str = 'chess'):\n",
    "    print(f'I like playing {g}.')\n",
    "    \n",
    "game()\n",
    "game('basketball')\n",
    "game('football')"
   ]
  },
  {
   "cell_type": "markdown",
   "id": "ee35663e",
   "metadata": {},
   "source": [
    "#### Favorite Movie\n",
    "- Write a function that accepts the name of a movie, and prints a statement such as, \"My favorite movie is The Princess Bride.\"\n",
    "- Give the argument a default value, such as `The Princess Bride`.\n",
    "- Call your function at least three times. Make sure at least one of the calls includes an argument, and at least one call includes no arguments."
   ]
  },
  {
   "cell_type": "code",
   "execution_count": 2,
   "id": "eb532224",
   "metadata": {},
   "outputs": [
    {
     "name": "stdout",
     "output_type": "stream",
     "text": [
      "My favorite movie is jurassic park.\n",
      "My favorite movie is cars.\n",
      "My favorite movie is fast and furious.\n"
     ]
    }
   ],
   "source": [
    "# Ex 8.2 : Favorite Movie\n",
    "\n",
    "def movie(m: str = 'jurassic park'):\n",
    "    print(f'My favorite movie is {m}.')\n",
    "    \n",
    "movie()\n",
    "movie('cars')\n",
    "movie('fast and furious')"
   ]
  },
  {
   "cell_type": "markdown",
   "id": "3f24e5d4",
   "metadata": {},
   "source": [
    "## Positional Arguments"
   ]
  },
  {
   "cell_type": "markdown",
   "id": "70e4fe84",
   "metadata": {},
   "source": [
    "#### Favorite Colors\n",
    "- Write a function that takes two arguments, a person's name and their favorite color. The function should print out a statement such as \"Hillary's favorite color is blue.\"\n",
    "- Call your function three times, with a different person and color each time."
   ]
  },
  {
   "cell_type": "code",
   "execution_count": 3,
   "id": "ee346bcd",
   "metadata": {},
   "outputs": [
    {
     "name": "stdout",
     "output_type": "stream",
     "text": [
      "Ron's favorite color is Blue\n",
      "Harry's favorite color is Red\n",
      "Hermoine's favorite color is Green\n"
     ]
    }
   ],
   "source": [
    "# Ex 8.3 : Favorite Colors\n",
    "\n",
    "def favColor(name: str, color: str):\n",
    "    print(f\"{name}'s favorite color is {color}\")\n",
    "    \n",
    "favColor('Ron', 'Blue')\n",
    "favColor('Harry', 'Red')\n",
    "favColor('Hermoine', 'Green')"
   ]
  },
  {
   "cell_type": "markdown",
   "id": "607d2e87",
   "metadata": {},
   "source": [
    "#### Phones\n",
    "- Write a function that takes two arguments, a brand of phone and a model name. The function should print out a phrase such as \"iPhone 6 Plus\".\n",
    "- Call your function three times, with a different combination of brand and model each time."
   ]
  },
  {
   "cell_type": "code",
   "execution_count": 4,
   "id": "280c2fed",
   "metadata": {},
   "outputs": [
    {
     "name": "stdout",
     "output_type": "stream",
     "text": [
      "samsung galaxy s21\n",
      "apple iphone 12\n",
      "asus rog phone 3\n"
     ]
    }
   ],
   "source": [
    "# Ex 8.4 : Phones\n",
    "\n",
    "def phone(brand: str, model: str):\n",
    "    print(brand, model)\n",
    "    \n",
    "phone('samsung', 'galaxy s21')\n",
    "phone('apple', 'iphone 12')\n",
    "phone('asus', 'rog phone 3')"
   ]
  },
  {
   "cell_type": "markdown",
   "id": "9e1f7d53",
   "metadata": {},
   "source": [
    "## Keyword arguments"
   ]
  },
  {
   "cell_type": "markdown",
   "id": "a8f67550",
   "metadata": {},
   "source": [
    "#### Sports Teams\n",
    "- Write a function that takes in two arguments, the name of a city and the name of a sports team from that city.\n",
    "- Call your function three times, using a mix of positional and keyword arguments."
   ]
  },
  {
   "cell_type": "code",
   "execution_count": 5,
   "id": "f1f72a51",
   "metadata": {
    "scrolled": true
   },
   "outputs": [
    {
     "name": "stdout",
     "output_type": "stream",
     "text": [
      "chicago bulls\n",
      "la lakers\n",
      "miami heat\n"
     ]
    }
   ],
   "source": [
    "# Ex 8.5 : Sports Team\n",
    "\n",
    "def sportTeams(city: str, team: str):\n",
    "    print(city, team)\n",
    "    \n",
    "sportTeams('chicago', 'bulls')\n",
    "sportTeams(city='la', team='lakers')\n",
    "sportTeams(team='heat', city='miami')"
   ]
  },
  {
   "cell_type": "markdown",
   "id": "6c43031b",
   "metadata": {},
   "source": [
    "#### World Languages\n",
    "- Write a function that takes in two arguments, the name of a country and a major language spoken there.\n",
    "- Call your function three times, using a mix of positional and keyword arguments."
   ]
  },
  {
   "cell_type": "code",
   "execution_count": 6,
   "id": "62b86cef",
   "metadata": {},
   "outputs": [
    {
     "name": "stdout",
     "output_type": "stream",
     "text": [
      "india : hindi\n",
      "france : french\n",
      "uk : english\n"
     ]
    }
   ],
   "source": [
    "# Ex 8.6 : Word Languages\n",
    "\n",
    "def worldLang(country: str, language: str):\n",
    "    print(f'{country} : {language}')\n",
    "    \n",
    "worldLang('india', 'hindi')\n",
    "worldLang(country='france', language='french')\n",
    "worldLang(language='english', country='uk')"
   ]
  },
  {
   "cell_type": "markdown",
   "id": "7435156f",
   "metadata": {},
   "source": [
    "## Accepting an arbitrary number of arguments"
   ]
  },
  {
   "cell_type": "markdown",
   "id": "20e06e4b",
   "metadata": {},
   "source": [
    "no exercises in Accepting an arbitrary number of arguments"
   ]
  },
  {
   "cell_type": "markdown",
   "id": "e1df0121",
   "metadata": {},
   "source": [
    "Solutions by [AARYA RAJOJU](https://github.com/aaryarajoju)"
   ]
  }
 ],
 "metadata": {
  "kernelspec": {
   "display_name": "Python 3",
   "language": "python",
   "name": "python3"
  },
  "language_info": {
   "codemirror_mode": {
    "name": "ipython",
    "version": 3
   },
   "file_extension": ".py",
   "mimetype": "text/x-python",
   "name": "python",
   "nbconvert_exporter": "python",
   "pygments_lexer": "ipython3",
   "version": "3.8.7"
  }
 },
 "nbformat": 4,
 "nbformat_minor": 5
}
