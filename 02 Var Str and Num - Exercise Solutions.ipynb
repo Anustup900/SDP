{
 "cells": [
  {
   "cell_type": "markdown",
   "id": "8472daa1",
   "metadata": {},
   "source": [
    "<a name='exercises_variables'></a>Exercises\n",
    "---"
   ]
  },
  {
   "cell_type": "markdown",
   "id": "873885b6",
   "metadata": {},
   "source": [
    "### Variables"
   ]
  },
  {
   "cell_type": "markdown",
   "id": "bd4cd206",
   "metadata": {},
   "source": [
    "#### Hello World - variable\n",
    "\n",
    "- Store your own version of the message \"Hello World\" in a variable, and print it."
   ]
  },
  {
   "cell_type": "code",
   "execution_count": 1,
   "id": "2c6c82bc",
   "metadata": {},
   "outputs": [
    {
     "name": "stdout",
     "output_type": "stream",
     "text": [
      "Hello World!\n"
     ]
    }
   ],
   "source": [
    "# Ex 2.1 : Hello World - Variable\n",
    "\n",
    "message: str = \"Hello World!\"\n",
    "print(message)"
   ]
  },
  {
   "cell_type": "markdown",
   "id": "17901d9e",
   "metadata": {},
   "source": [
    "#### One Variable, Two Messages:\n",
    "- Store a message in a variable, and then print that message.\n",
    "- Store a new message in the same variable, and then print that new message."
   ]
  },
  {
   "cell_type": "code",
   "execution_count": 2,
   "id": "57a6919f",
   "metadata": {},
   "outputs": [
    {
     "name": "stdout",
     "output_type": "stream",
     "text": [
      "Hello Earth!\n",
      "Hello Mars!\n"
     ]
    }
   ],
   "source": [
    "# Ex 2.2 : One Variable, Two Messages\n",
    "\n",
    "message: str = \"Hello Earth!\"\n",
    "print(message)\n",
    "\n",
    "message: str = \"Hello Mars!\"\n",
    "print(message)"
   ]
  },
  {
   "cell_type": "markdown",
   "id": "e2a33ccd",
   "metadata": {},
   "source": [
    "### Strings"
   ]
  },
  {
   "cell_type": "markdown",
   "id": "bb2d798b",
   "metadata": {},
   "source": [
    "#### Someone Said\n",
    "- Find a quote that you like. Store the quote in a variable, with an appropriate introduction such as \"Ken Thompson once said, 'One of my most productive days was throwing away 1000 lines of code'\". Print the quote."
   ]
  },
  {
   "cell_type": "code",
   "execution_count": 3,
   "id": "7b82b4a8",
   "metadata": {},
   "outputs": [
    {
     "name": "stdout",
     "output_type": "stream",
     "text": [
      "Steve Jobs once said, 'The only way to do great work is to love what you do. If you haven't found it yet, keep looking. Don't settle.'\n"
     ]
    }
   ],
   "source": [
    "# Ex 2.3 : Someone Said\n",
    "\n",
    "name: str = \"Steve Jobs\"\n",
    "quote: str = \"The only way to do great work is to love what you do. If you haven\\'t found it yet, keep looking. Don\\'t settle.\"\n",
    "\n",
    "print(name + \" once said, \\'\" + quote + \"\\'\")"
   ]
  },
  {
   "cell_type": "markdown",
   "id": "ba400186",
   "metadata": {},
   "source": [
    "#### First Name Cases\n",
    "- Store your first name, in lowercase, in a variable.\n",
    "- Using that one variable, print your name in lowercase, Titlecase, and UPPERCASE."
   ]
  },
  {
   "cell_type": "code",
   "execution_count": 4,
   "id": "3472caba",
   "metadata": {},
   "outputs": [
    {
     "name": "stdout",
     "output_type": "stream",
     "text": [
      "aarya\n",
      "Aarya\n",
      "AARYA\n"
     ]
    }
   ],
   "source": [
    "# Ex 2.4 : First Name Cases\n",
    "\n",
    "firstName: str = \"aarya\"\n",
    "\n",
    "print(firstName)   # print(firstName.lower())\n",
    "print(firstName.title())\n",
    "print(firstName.upper())"
   ]
  },
  {
   "cell_type": "markdown",
   "id": "37faff95",
   "metadata": {},
   "source": [
    "#### Full Name\n",
    "- Store your first name and last name in separate variables, and then combine them to print out your full name."
   ]
  },
  {
   "cell_type": "code",
   "execution_count": 5,
   "id": "ffac3708",
   "metadata": {},
   "outputs": [
    {
     "name": "stdout",
     "output_type": "stream",
     "text": [
      "Name: Aarya Rajoju\n"
     ]
    }
   ],
   "source": [
    "# Ex 2.5 : Full Name\n",
    "\n",
    "firstName: str = \"Aarya\"\n",
    "lastName: str = \"Rajoju\"\n",
    "\n",
    "print(f\"Name: {firstName} {lastName}\")"
   ]
  },
  {
   "cell_type": "markdown",
   "id": "bcbd1fa6",
   "metadata": {},
   "source": [
    "#### About This Person\n",
    "- Choose a person you look up to. Store their first and last names in separate variables.\n",
    "- Use concatenation to make a sentence about this person, and store that sentence in a variable.-\n",
    "- Print the sentence."
   ]
  },
  {
   "cell_type": "code",
   "execution_count": 6,
   "id": "4cb0359d",
   "metadata": {},
   "outputs": [
    {
     "name": "stdout",
     "output_type": "stream",
     "text": [
      "Elon Musk is the founder, CEO, CTO, and chief designer of SpaceX\n"
     ]
    }
   ],
   "source": [
    "# Ex 2.6 : About This Person\n",
    "\n",
    "firstName: str = \"Elon\"\n",
    "lastName: str = \"Musk\"\n",
    "\n",
    "sentence: str = firstName + \" \" + lastName + \" is the founder, CEO, CTO, and chief designer of SpaceX\"\n",
    "\n",
    "print(sentence)"
   ]
  },
  {
   "cell_type": "markdown",
   "id": "254921e1",
   "metadata": {},
   "source": [
    "#### Name Strip\n",
    "- Store your first name in a variable, but include at least two kinds of whitespace on each side of your name.\n",
    "- Print your name as it is stored.\n",
    "- Print your name with whitespace stripped from the left side, then from the right side, then from both sides."
   ]
  },
  {
   "cell_type": "code",
   "execution_count": 7,
   "id": "6f440f17",
   "metadata": {},
   "outputs": [
    {
     "name": "stdout",
     "output_type": "stream",
     "text": [
      " aarya \n",
      "aarya \n",
      " aarya\n",
      "aarya\n"
     ]
    }
   ],
   "source": [
    "# Ex 2.7 : Name Strip\n",
    "\n",
    "name: str = \" aarya \"\n",
    "\n",
    "print(name)\n",
    "\n",
    "print(name.lstrip())\n",
    "print(name.rstrip())\n",
    "print(name.strip())"
   ]
  },
  {
   "cell_type": "markdown",
   "id": "1926998f",
   "metadata": {},
   "source": [
    "### Numbers"
   ]
  },
  {
   "cell_type": "markdown",
   "id": "9cfefee5",
   "metadata": {},
   "source": [
    "#### Arithmetic\n",
    "- Write a program that prints out the results of at least one calculation for each of the basic operations: addition, subtraction, multiplication, division, and exponents."
   ]
  },
  {
   "cell_type": "code",
   "execution_count": 8,
   "id": "e1791944",
   "metadata": {},
   "outputs": [
    {
     "name": "stdout",
     "output_type": "stream",
     "text": [
      "a + b = 15\n",
      "a - b = -1\n"
     ]
    }
   ],
   "source": [
    "# Ex 2.8 : Arithmetic\n",
    "\n",
    "a: int = 7\n",
    "b: int = 8\n",
    "\n",
    "add: int = a + b\n",
    "diff: int = a - b\n",
    "    \n",
    "print(f\"a + b = {add}\")\n",
    "print(f\"a - b = {diff}\")"
   ]
  },
  {
   "cell_type": "markdown",
   "id": "e64a0f4f",
   "metadata": {},
   "source": [
    "#### Order of Operations\n",
    "- Find a calculation whose result depends on the order of operations.\n",
    "- Print the result of this calculation using the standard order of operations.\n",
    "- Use parentheses to force a nonstandard order of operations. Print the result of this calculation."
   ]
  },
  {
   "cell_type": "code",
   "execution_count": 9,
   "id": "a83c7039",
   "metadata": {},
   "outputs": [
    {
     "name": "stdout",
     "output_type": "stream",
     "text": [
      "4 * 7 + 3 = 31\n",
      "4 * (7 + 3) = 40\n"
     ]
    }
   ],
   "source": [
    "# Ex 2.9 : Order of Operations\n",
    "\n",
    "calcResult = 4 * 7 + 3\n",
    "print(f\"4 * 7 + 3 = {calcResult}\")\n",
    "\n",
    "calcResult = 4 * (7 + 3)\n",
    "print(f\"4 * (7 + 3) = {calcResult}\")"
   ]
  },
  {
   "cell_type": "markdown",
   "id": "a2405510",
   "metadata": {},
   "source": [
    "#### Long Decimals\n",
    "- On paper, 0.1+0.2=0.3. But you have seen that in Python, 0.1+0.2=0.30000000000000004.\n",
    "- Find at least one other calculation that results in a long decimal like this."
   ]
  },
  {
   "cell_type": "code",
   "execution_count": 10,
   "id": "2cfad461",
   "metadata": {},
   "outputs": [
    {
     "name": "stdout",
     "output_type": "stream",
     "text": [
      "given example: 0.1 + 0.2 = 0.30000000000000004\n",
      "\n",
      "additional example 1: 0.1 + 0.7 = 0.7999999999999999\n",
      "additional example 2: 1.2 - 1.0 = 0.19999999999999996\n"
     ]
    }
   ],
   "source": [
    "# Ex 2.10 : Long Decimals\n",
    "\n",
    "print(f\"given example: 0.1 + 0.2 = {0.1 + 0.2}\", end=\"\\n\\n\")\n",
    "\n",
    "print(f\"additional example 1: 0.1 + 0.7 = {0.1 + 0.7}\")\n",
    "print(f\"additional example 2: 1.2 - 1.0 = {1.2 - 1.0}\")"
   ]
  },
  {
   "cell_type": "markdown",
   "id": "e242ccb7",
   "metadata": {},
   "source": [
    "#### Neat Arithmetic (Challenge)\n",
    "\n",
    "- Store the results of at least 5 different calculations in separate variables. Make sure you use each operation at least once.\n",
    "- Print a series of informative statements, such as \"The result of the calculation 5+7 is 12.\""
   ]
  },
  {
   "cell_type": "code",
   "execution_count": 11,
   "id": "4026abcb",
   "metadata": {},
   "outputs": [
    {
     "name": "stdout",
     "output_type": "stream",
     "text": [
      "The sum of a & b: a + b = 15\n",
      "The difference of a & b: a - b = -1\n",
      "The multiplication of a & b: a / b = 56\n",
      "The float division of a & b: a / b = 0.875\n",
      "The int division of a & b: a // b = 0\n"
     ]
    }
   ],
   "source": [
    "# Challenge: Neat Arithmetic\n",
    "\n",
    "a: int = 7\n",
    "b: int = 8\n",
    "\n",
    "add: int = a + b\n",
    "diff: int = a - b\n",
    "mul: int = a * b\n",
    "div: float = a / b \n",
    "intDiv: int = a // b\n",
    "    \n",
    "print(f\"The sum of a & b: a + b = {add}\")\n",
    "print(f\"The difference of a & b: a - b = {diff}\")\n",
    "print(f\"The multiplication of a & b: a / b = {mul}\")\n",
    "print(f\"The float division of a & b: a / b = {div}\")\n",
    "print(f\"The int division of a & b: a // b = {intDiv}\")"
   ]
  },
  {
   "cell_type": "markdown",
   "id": "eec57a17",
   "metadata": {},
   "source": [
    "#### Neat Order of Operations (Challenge)\n",
    "- Take your work for \"Order of Operations\" above.\n",
    "- Instead of just printing the results, print an informative summary of the results. Show each calculation that is being done and the result of that calculation. Explain how you modified the result using parentheses."
   ]
  },
  {
   "cell_type": "code",
   "execution_count": 12,
   "id": "9aff05f6",
   "metadata": {},
   "outputs": [
    {
     "name": "stdout",
     "output_type": "stream",
     "text": [
      "4 * 7 + 3 = 31\n",
      "-> As python follows the PEDMAS rule, it calculates multiplication before addition, which means that it'll first multiply 4 and 7, and then add 3 to it\n",
      "\n",
      "4 * (7 + 3) = 40\n",
      "-> The parentheses will be solved first, which means the sum of 3 and 7 will be calculated and then it'll be multiplied to 4, which results in a different result than the first one\n"
     ]
    }
   ],
   "source": [
    "# Challenge: Neat Order of Operations\n",
    "\n",
    "calcResult = 4 * 7 + 3\n",
    "print(f\"4 * 7 + 3 = {calcResult}\")\n",
    "print(\"-> As python follows the PEDMAS rule, it calculates multiplication before addition, which means that it'll first multiply 4 and 7, and then add 3 to it\", end=\"\\n\\n\")\n",
    "\n",
    "calcResult = 4 * (7 + 3)\n",
    "print(f\"4 * (7 + 3) = {calcResult}\")\n",
    "print(\"-> The parentheses will be solved first, which means the sum of 3 and 7 will be calculated and then it'll be multiplied to 4, which results in a different result than the first one\")"
   ]
  },
  {
   "cell_type": "markdown",
   "id": "45163a38",
   "metadata": {},
   "source": [
    "#### Long Decimals - Pattern (Challenge)\n",
    "- On paper, 0.1+0.2=0.3. But you have seen that in Python, 0.1+0.2=0.30000000000000004.\n",
    "- Find a number of other calculations that result in a long decimal like this. Try to find a pattern in what kinds of numbers will result in long decimals."
   ]
  },
  {
   "cell_type": "code",
   "execution_count": 13,
   "id": "072949b1",
   "metadata": {},
   "outputs": [
    {
     "name": "stdout",
     "output_type": "stream",
     "text": [
      "example 0: 0.1 + 0.2 = 0.30000000000000004\n",
      "example 1: 0.1 + 0.7 = 0.7999999999999999\n",
      "example 2: 1.2 - 1.0 = 0.19999999999999996\n",
      "example 3: 1.1 * 3 = 3.3000000000000003\n",
      "example 4: 1.1 + 1.2 = 2.3\n",
      "\n",
      "We see such erros in floating point arithmetic due to how the computers work with floating point numbers.\n",
      "representing floating point numbers in binary isn't accurate, and hence causes these errors.\n",
      "\n"
     ]
    }
   ],
   "source": [
    "# Challenge: Long Decimals - Pattern\n",
    "\n",
    "print(f\"example 0: 0.1 + 0.2 = {0.1 + 0.2}\")\n",
    "print(f\"example 1: 0.1 + 0.7 = {0.1 + 0.7}\")\n",
    "print(f\"example 2: 1.2 - 1.0 = {1.2 - 1.0}\")\n",
    "print(f\"example 3: 1.1 * 3 = {1.1 * 3}\")\n",
    "print(f\"example 4: 1.1 + 1.2 = {1.1 + 1.2}\")\n",
    "\n",
    "print(\"\"\"\n",
    "We see such erros in floating point arithmetic due to how the computers work with floating point numbers.\n",
    "representing floating point numbers in binary isn't accurate, and hence causes these errors.\n",
    "\"\"\")"
   ]
  },
  {
   "cell_type": "markdown",
   "id": "0e5e3971",
   "metadata": {},
   "source": [
    "### Comments"
   ]
  },
  {
   "cell_type": "markdown",
   "id": "11d52fa3",
   "metadata": {},
   "source": [
    "#### First Comments\n",
    "- Choose the longest, most difficult, or most interesting program you have written so far. Write at least one comment in your program."
   ]
  },
  {
   "cell_type": "code",
   "execution_count": 14,
   "id": "4faf6057",
   "metadata": {},
   "outputs": [
    {
     "name": "stdout",
     "output_type": "stream",
     "text": [
      "The float division of a & b: a / b = 0.875\n",
      "The int division of a & b: a // b = 0\n"
     ]
    }
   ],
   "source": [
    "# Ex 2.10 : First Comments\n",
    "\n",
    "\n",
    "# taken from the code for Neat Arithmetic exercise:\n",
    "\n",
    "a: int = 7\n",
    "b: int = 8\n",
    "\n",
    "div = a / b \n",
    "# by using one /, it signifies that python will do float division\n",
    "    \n",
    "intDiv = a // b\n",
    "# by using two //, it signifies that python will do int division\n",
    "    \n",
    "print(f\"The float division of a & b: a / b = {div}\")\n",
    "print(f\"The int division of a & b: a // b = {intDiv}\")"
   ]
  },
  {
   "cell_type": "markdown",
   "id": "4079df17",
   "metadata": {},
   "source": [
    "### Overall Challenges"
   ]
  },
  {
   "cell_type": "markdown",
   "id": "5eaf4f65",
   "metadata": {},
   "source": [
    "- Write a program that uses everything you have learned in this notebook at least once.\n",
    "- Write comments that label each section of your program.\n",
    "- For each thing your program does, write at least one line of output that explains what your program did.\n",
    "- For example, you might have one line that stores your name with some whitespace in a variable, and a second line that strips that whitespace from your name:"
   ]
  },
  {
   "cell_type": "code",
   "execution_count": 15,
   "id": "b81de5f7",
   "metadata": {},
   "outputs": [
    {
     "name": "stdout",
     "output_type": "stream",
     "text": [
      "3\n",
      "5\n",
      " aarya\n",
      "rajoju \n",
      "\n",
      "aarya\n",
      "rajoju\n",
      "\n",
      "Aarya\n",
      "Rajoju\n",
      "\n",
      "Aarya Rajoju\n",
      "\n",
      "8\n",
      "2\n",
      "\n"
     ]
    }
   ],
   "source": [
    "# Overall Challenge\n",
    "\n",
    "# Storing values in variables\n",
    "x = 3\n",
    "y = 5\n",
    "firstName = \" aarya\"\n",
    "lastName = \"rajoju \"\n",
    "\n",
    "print(x, y, firstName, lastName, sep=\"\\n\", end=\"\\n\\n\")\n",
    "\n",
    "# Stripping the whitespace from strings\n",
    "firstName = firstName.strip()\n",
    "lastName = lastName.strip()\n",
    "\n",
    "print(firstName, lastName, sep=\"\\n\", end=\"\\n\\n\")\n",
    "\n",
    "# Changing the case of a string\n",
    "firstName = firstName.title()\n",
    "lastName = lastName.title()\n",
    "\n",
    "print(firstName, lastName, sep=\"\\n\", end=\"\\n\\n\")\n",
    "\n",
    "# String Concatenation\n",
    "fullName = firstName + \" \" + lastName\n",
    "\n",
    "print(fullName, end=\"\\n\\n\")\n",
    "\n",
    "# Simple Arithmetic Operations\n",
    "a = x + y\n",
    "b = y - x\n",
    "\n",
    "print(a, b, sep=\"\\n\", end=\"\\n\\n\")"
   ]
  },
  {
   "cell_type": "markdown",
   "id": "5e79d011",
   "metadata": {},
   "source": [
    "Solutions by [AARYA RAJOJU](https://github.com/aaryarajoju)"
   ]
  }
 ],
 "metadata": {
  "kernelspec": {
   "display_name": "Python 3",
   "language": "python",
   "name": "python3"
  },
  "language_info": {
   "codemirror_mode": {
    "name": "ipython",
    "version": 3
   },
   "file_extension": ".py",
   "mimetype": "text/x-python",
   "name": "python",
   "nbconvert_exporter": "python",
   "pygments_lexer": "ipython3",
   "version": "3.8.7"
  }
 },
 "nbformat": 4,
 "nbformat_minor": 5
}
